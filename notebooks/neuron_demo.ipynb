{
 "metadata": {
  "name": "",
  "signature": "sha256:7fa2284d217bf0508fd3cb5c15a77048d7cb64d9c01cc5ca7d3eb655c4e4b561"
 },
 "nbformat": 3,
 "nbformat_minor": 0,
 "worksheets": [
  {
   "cells": [
    {
     "cell_type": "code",
     "collapsed": false,
     "input": [
      "try:\n",
      "    import pypet\n",
      "except ImportError:\n",
      "    # You can defintely ignore this line, this is solely for me, Robert,\n",
      "    # because I did not install pypet and want to use my own developer version ;-)\n",
      "    import sys\n",
      "    sys.path.append('/media/data/PYTHON_WORKSPACE/pypet-project')\n",
      "\n",
      "%matplotlib inline\n",
      "\n",
      "import os\n",
      "import numpy as np\n",
      "import pandas as pd\n",
      "import matplotlib.pyplot as plt\n",
      "import logging\n"
     ],
     "language": "python",
     "metadata": {},
     "outputs": [],
     "prompt_number": 5
    },
    {
     "cell_type": "markdown",
     "metadata": {},
     "source": [
      "LIF neuron Model\n",
      "----------------\n",
      "We will numerically integrate the linear differential\n",
      "equation:\n",
      "\n",
      "$$\\frac{dV}{dt} = -\\frac{1}{\\tau_V} V + I$$\n",
      "\n",
      "\n",
      "with a non-linear reset rule $V \\leftarrow 0$ if $V \\geq 1$ and \n",
      "additional refractory period of length $\\tau_{ref}$.\n",
      "\n",
      "Our neuron simulator is based on the simple Euler integration method.\n",
      "\n",
      "* `V_init` - initial value of *V*\n",
      "* `I` - the current\n",
      "* `tau_V` - membrane time constant $\\tau_V$\n",
      "* `tau_ref` - the refractory period $\\tau_{ref}$\n",
      "* `dt` - Simulation timestep\n",
      "* `duration` - Simulation duration\n",
      "\n",
      "Our function returns 3 data items:\n",
      "\n",
      "* `V_array` - the development of *V* over time\n",
      "* `spiketimes` - list of times the neuron spiked\n",
      "* `times` - numpy array of simulation times"
     ]
    },
    {
     "cell_type": "code",
     "collapsed": false,
     "input": [
      "def euler_neuron(V_init, I, tau_V, tau_ref, dt, duration):\n",
      "    \"\"\" Simulation of a leaky integrate and fire neuron.\n",
      "\n",
      "    Simulates the equation\n",
      "\n",
      "        dV/dT = -1/tau_V * V + I\n",
      "\n",
      "    with a simple Euler scheme.\n",
      "    \n",
      "    \"\"\"\n",
      "    # Createa a times array\n",
      "    times = np.arange(0, duration, dt)\n",
      "    steps = len(times)\n",
      "\n",
      "    # Create the V array for the membrane development over time\n",
      "    V_array = np.zeros(steps)\n",
      "    V_array[0] = V_init\n",
      "    spiketimes = []  # List to collect all times of action potentials\n",
      "\n",
      "    # Do the Euler integration:\n",
      "    for step in range(1, steps):\n",
      "        if V_array[step-1] >= 1:\n",
      "            # The membrane potential crossed the threshold and we mark this as\n",
      "            # an action potential\n",
      "            V_array[step] = 0\n",
      "            spiketimes.append(times[step-1])\n",
      "        elif spiketimes and times[step] - spiketimes[-1] <= tau_ref:\n",
      "            # We are in the refractory period, so we simply clamp the voltage\n",
      "            # to 0\n",
      "            V_array[step] = 0\n",
      "        else:\n",
      "            # Euler Integration step:\n",
      "            dV = -1.0 / tau_V * V_array[step-1] + I\n",
      "            V_array[step] = V_array[step-1] + dV * dt\n",
      "\n",
      "    return V_array, spiketimes, times"
     ],
     "language": "python",
     "metadata": {},
     "outputs": [],
     "prompt_number": 6
    },
    {
     "cell_type": "markdown",
     "metadata": {},
     "source": [
      "Running and plotting the results gives:"
     ]
    },
    {
     "cell_type": "code",
     "collapsed": false,
     "input": [
      "V_init = 0.0\n",
      "I = 0.1\n",
      "tau_V = 12.0\n",
      "tau_ref = 5.0\n",
      "dt = 0.1\n",
      "duration = 250.0\n",
      "\n",
      "V_array, spiketimes, times = euler_neuron(V_init, I, tau_V, tau_ref, dt, duration)\n",
      "\n",
      "plt.plot(times, V_array)\n",
      "plt.xlabel('t[ms]')\n",
      "plt.ylabel('V')"
     ],
     "language": "python",
     "metadata": {},
     "outputs": [
      {
       "metadata": {},
       "output_type": "pyout",
       "prompt_number": 7,
       "text": [
        "<matplotlib.text.Text at 0x7f006839d050>"
       ]
      },
      {
       "metadata": {},
       "output_type": "display_data",
       "png": "[encoded data removed]",
       "text": [
        "<matplotlib.figure.Figure at 0x7f0068448e10>"
       ]
      }
     ],
     "prompt_number": 7
    },
    {
     "cell_type": "markdown",
     "metadata": {},
     "source": [
      "*pypet*\n",
      "=======\n",
      "\n",
      "Let's use [pypet](http://pypet.readthedocs.org/en/latest/) to manage our simulation.\n",
      "We will use a [trajectory](http://pypet.readthedocs.org/en/latest/pypetdoc/trajectorydoc.html#pypet.trajectory.Trajectory) container to store our data. \n",
      "\n",
      "Let's assume we already have such a container, and we just want to put the parameters of our simulation into it."
     ]
    },
    {
     "cell_type": "code",
     "collapsed": false,
     "input": [
      "def add_parameters(traj):\n",
      "    \"\"\"Adds all parameters to `traj`\"\"\"\n",
      "    traj.f_add_parameter('neuron.V_init', 0.0,\n",
      "                         comment='The initial condition for the '\n",
      "                                    'membrane potential')\n",
      "    \n",
      "    traj.parameters = Parameter('neuron.I', 0.0,\n",
      "                         comment='The externally applied current.')\n",
      "\n",
      "    traj.par.neuron.tau_V =  12.0, 'The membrane time constant in milliseconds'\n",
      "\n",
      "    traj.par.neuron.tau_ref = 5.0, 'The refractory period in milliseconds '\n",
      "\n",
      "    traj.f_add_parameter_group('simulation', comment='Group containing dt and the duration')\n",
      "\n",
      "    traj.simulation.duration = 1000.0, 'The duration of the experiment in milliseconds.'\n",
      "    \n",
      "    traj.simulation.dt =  0.1, 'The step size of an Euler integration step.'"
     ],
     "language": "python",
     "metadata": {},
     "outputs": [],
     "prompt_number": 13
    },
    {
     "cell_type": "markdown",
     "metadata": {},
     "source": [
      "Now we don't simply want to run this parameter set, but explore the parameter space.\n",
      "\n",
      "We will try different values of `I` and `tau_ref`.\n",
      "\n",
      "We will use a full grid search, using the [cartesian_prodcut](http://pypet.readthedocs.org/en/latest/pypetdoc/utilsdoc.html?highlight=cartesian#pypet.utils.explore.cartesian_product) function of *pypet*."
     ]
    },
    {
     "cell_type": "code",
     "collapsed": false,
     "input": [
      "def add_exploration(traj):\n",
      "    \"\"\"Explores different values of `I` and `tau_ref`.\"\"\"\n",
      "\n",
      "    print('Adding exploration of I and tau_ref')\n",
      "\n",
      "    explore_dict = {'neuron.I': np.arange(0, 1.01, 0.05).tolist(),\n",
      "                    'neuron.tau_ref': [5.0, 7.5, 10.0]}\n",
      "\n",
      "    explore_dict = cartesian_product(explore_dict, ('neuron.tau_ref', 'neuron.I'))\n",
      "    # The second argument, the tuple, specifies the order of the cartesian product,\n",
      "    # The variable on the right most side changes fastest and defines the\n",
      "    # 'inner for-loop' of the cartesian product\n",
      "\n",
      "    traj.f_explore(explore_dict)"
     ],
     "language": "python",
     "metadata": {},
     "outputs": [],
     "prompt_number": 14
    },
    {
     "cell_type": "markdown",
     "metadata": {},
     "source": [
      "We still need a wrapper function that passes our data from the *trajectory*\n",
      "to the simulator and back."
     ]
    },
    {
     "cell_type": "code",
     "collapsed": false,
     "input": [
      "def pypet_neuron(traj):\n",
      "    \"\"\" Wraps the `euler_neuron` function\"\"\"\n",
      "    \n",
      "    parameter_dict = traj.parameters.f_to_dict(short_names=True, fast_access=True)\n",
      "    V_array, spiketimes, times = euler_neuron(**parameter_dict)\n",
      "\n",
      "    # Calculate the spikes\n",
      "    nspikes = len(spiketimes)\n",
      "\n",
      "    traj.f_add_result('neuron.$', V=V_array, nspikes=nspikes, spiketimes=spiketimes,\n",
      "                      comment='Contains the development of the membrane potential over time '\n",
      "                              'as well as the number of spikes and the spikestimes.')\n",
      "\n",
      "    # * 1000 because we assume units of milliseconds\n",
      "    return nspikes/traj.duration * 1000.0"
     ],
     "language": "python",
     "metadata": {},
     "outputs": [],
     "prompt_number": 15
    },
    {
     "cell_type": "markdown",
     "metadata": {},
     "source": [
      "Finally we need to start our simulation, for this we also need an [environment](http://pypet.readthedocs.org/en/latest/pypetdoc/environmentdoc.html?highlight=environment#module-pypet.environment)."
     ]
    },
    {
     "cell_type": "code",
     "collapsed": false,
     "input": [
      "from pypet import Parameter, cartesian_product, Environment\n",
      "\n",
      "filename = os.path.join('hdf5', 'FiringRate.hdf5')\n",
      "env = Environment(trajectory='FiringRate',\n",
      "                  comment='Experiment to measure the firing rate '\n",
      "                        'of a leaky integrate and fire neuron. '\n",
      "                        'Exploring different input currents, '\n",
      "                        'as well as refractory periods',\n",
      "                  add_time=False, # We don't want to add the current time to the name,\n",
      "                  log_folder='logs',\n",
      "                  log_level=logging.INFO,\n",
      "                  log_stdout=False, # Important since we operate in Ipython notebook\n",
      "                  multiproc=True,\n",
      "                  ncores=4, #My laptop has 4 cores ;-)\n",
      "                  wrap_mode='LOCK',\n",
      "                  filename=filename,\n",
      "                  git_repository='../',\n",
      "                  overwrite_file=True)\n",
      "\n",
      "traj = env.v_trajectory\n",
      "\n",
      "# Add parameters\n",
      "add_parameters(traj)\n",
      "\n",
      "# Let's explore\n",
      "add_exploration(traj)\n",
      "\n"
     ],
     "language": "python",
     "metadata": {},
     "outputs": [
      {
       "output_type": "stream",
       "stream": "stderr",
       "text": [
        "INFO:pypet.HDF5StorageService:I will use the hdf5 file `hdf5/FiringRate.hdf5`.\n"
       ]
      },
      {
       "output_type": "stream",
       "stream": "stderr",
       "text": [
        "INFO:pypet.HDF5StorageService:You specified ``overwrite_file=True``, so I deleted file `hdf5/FiringRate.hdf5`.\n"
       ]
      },
      {
       "output_type": "stream",
       "stream": "stderr",
       "text": [
        "INFO:pypet.Environment:Logging all messages of logger `root` to folder `/home/robert/PyCharmProjects/neuron_demo/notebooks/logs/FiringRate/environment_73425f7_2015_03_10_14h36m48s`.\n"
       ]
      },
      {
       "output_type": "stream",
       "stream": "stderr",
       "text": [
        "INFO:pypet.Environment:No changes detected, added PREVIOUS GIT commit `73425f73fba1a8854f5c5ea1db4e61508053fefb`.\n"
       ]
      },
      {
       "output_type": "stream",
       "stream": "stderr",
       "text": [
        "INFO:pypet.Environment:Environment initialized.\n"
       ]
      },
      {
       "output_type": "stream",
       "stream": "stdout",
       "text": [
        "Adding exploration of I and tau_ref\n"
       ]
      }
     ],
     "prompt_number": 17
    },
    {
     "cell_type": "code",
     "collapsed": false,
     "input": [
      "# Run the experiment\n",
      "env.f_run(pypet_neuron)\n",
      "\n",
      "# Finally disable logging and close all log-files\n",
      "env.f_disable_logging()"
     ],
     "language": "python",
     "metadata": {},
     "outputs": [
      {
       "output_type": "stream",
       "stream": "stderr",
       "text": [
        "INFO:pypet.Environment:I am preparing the Trajectory for the experiment and initialise the store.\n"
       ]
      },
      {
       "output_type": "stream",
       "stream": "stderr",
       "text": [
        "INFO:pypet.Environment:Initialising the storage for the trajectory.\n"
       ]
      },
      {
       "output_type": "stream",
       "stream": "stderr",
       "text": [
        "INFO:pypet.HDF5StorageService:Initialising storage or updating meta data of Trajectory `FiringRate`.\n"
       ]
      },
      {
       "output_type": "stream",
       "stream": "stderr",
       "text": [
        "INFO:pypet.HDF5StorageService:Finished init or meta data update for `FiringRate`.\n"
       ]
      },
      {
       "output_type": "stream",
       "stream": "stderr",
       "text": [
        "INFO:pypet.HDF5StorageService:Initialising storage or updating meta data of Trajectory `FiringRate`.\n"
       ]
      },
      {
       "output_type": "stream",
       "stream": "stderr",
       "text": [
        "INFO:pypet.HDF5StorageService:Finished init or meta data update for `FiringRate`.\n"
       ]
      },
      {
       "output_type": "stream",
       "stream": "stderr",
       "text": [
        "INFO:pypet.Environment:\n",
        "************************************************************\n",
        "STARTING runs of trajectory\n",
        "`FiringRate`\n",
        "in parallel with 4 cores.\n",
        "************************************************************\n",
        "\n"
       ]
      },
      {
       "output_type": "stream",
       "stream": "stderr",
       "text": [
        "INFO:pypet:\n",
        "=========================================\n",
        " Starting single run #0 of 63 \n",
        "=========================================\n",
        "\n"
       ]
      },
      {
       "output_type": "stream",
       "stream": "stderr",
       "text": [
        "INFO:pypet:\n",
        "=========================================\n",
        " Starting single run #1 of 63 \n",
        "=========================================\n",
        "\n"
       ]
      },
      {
       "output_type": "stream",
       "stream": "stderr",
       "text": [
        "INFO:pypet:\n",
        "=========================================\n",
        " Starting single run #2 of 63 \n",
        "=========================================\n",
        "\n",
        "INFO:pypet.HDF5StorageService:Storing Data of single run `run_00000001`.\n",
        "INFO:pypet:\n",
        "=========================================\n",
        " Starting single run #3 of 63 \n",
        "=========================================\n",
        "\n",
        "INFO:pypet.HDF5StorageService:Storing Data of single run `run_00000000`.\n",
        "INFO:pypet.HDF5StorageService:Finishing Storage of single run `run_00000000`.\n",
        "INFO:pypet.HDF5StorageService:Finishing Storage of single run `run_00000001`.\n",
        "INFO:pypet:\n",
        "=========================================\n",
        " Finished single run #1 of 63 \n",
        "=========================================\n",
        "\n"
       ]
      },
      {
       "output_type": "stream",
       "stream": "stderr",
       "text": [
        "INFO:pypet:\n",
        "=========================================\n",
        " Finished single run #0 of 63 \n",
        "=========================================\n",
        "\n",
        "INFO:pypet.HDF5StorageService:Storing Data of single run `run_00000002`.\n"
       ]
      },
      {
       "output_type": "stream",
       "stream": "stderr",
       "text": [
        "INFO:pypet:\n",
        "=========================================\n",
        " Starting single run #4 of 63 \n",
        "=========================================\n",
        "\n",
        "INFO:pypet:\n",
        "=========================================\n",
        " Starting single run #5 of 63 \n",
        "=========================================\n",
        "\n",
        "INFO:pypet.HDF5StorageService:Finishing Storage of single run `run_00000002`.\n",
        "INFO:pypet.HDF5StorageService:Storing Data of single run `run_00000003`.\n",
        "INFO:pypet:\n",
        "=========================================\n",
        " Finished single run #2 of 63 \n",
        "=========================================\n",
        "\n"
       ]
      },
      {
       "output_type": "stream",
       "stream": "stderr",
       "text": [
        "INFO:pypet.HDF5StorageService:Finishing Storage of single run `run_00000003`.\n",
        "INFO:pypet:\n",
        "=========================================\n",
        " Starting single run #6 of 63 \n",
        "=========================================\n",
        "\n",
        "INFO:pypet.HDF5StorageService:Storing Data of single run `run_00000004`.\n",
        "INFO:pypet:\n",
        "=========================================\n",
        " Finished single run #3 of 63 \n",
        "=========================================\n",
        "\n"
       ]
      },
      {
       "output_type": "stream",
       "stream": "stderr",
       "text": [
        "INFO:pypet.HDF5StorageService:Finishing Storage of single run `run_00000004`.\n",
        "INFO:pypet:\n",
        "=========================================\n",
        " Starting single run #7 of 63 \n",
        "=========================================\n",
        "\n",
        "INFO:pypet.HDF5StorageService:Storing Data of single run `run_00000005`.\n",
        "INFO:pypet:\n",
        "=========================================\n",
        " Finished single run #4 of 63 \n",
        "=========================================\n",
        "\n"
       ]
      },
      {
       "output_type": "stream",
       "stream": "stderr",
       "text": [
        "INFO:pypet.HDF5StorageService:Finishing Storage of single run `run_00000005`.\n",
        "INFO:pypet:\n",
        "=========================================\n",
        " Starting single run #8 of 63 \n",
        "=========================================\n",
        "\n",
        "INFO:pypet.HDF5StorageService:Storing Data of single run `run_00000006`.\n",
        "INFO:pypet:\n",
        "=========================================\n",
        " Finished single run #5 of 63 \n",
        "=========================================\n",
        "\n"
       ]
      },
      {
       "output_type": "stream",
       "stream": "stderr",
       "text": [
        "INFO:pypet.HDF5StorageService:Finishing Storage of single run `run_00000006`.\n",
        "INFO:pypet:\n",
        "=========================================\n",
        " Starting single run #9 of 63 \n",
        "=========================================\n",
        "\n",
        "INFO:pypet.HDF5StorageService:Storing Data of single run `run_00000007`.\n",
        "INFO:pypet:\n",
        "=========================================\n",
        " Finished single run #6 of 63 \n",
        "=========================================\n",
        "\n"
       ]
      },
      {
       "output_type": "stream",
       "stream": "stderr",
       "text": [
        "INFO:pypet.HDF5StorageService:Finishing Storage of single run `run_00000007`.\n",
        "INFO:pypet:\n",
        "=========================================\n",
        " Starting single run #10 of 63 \n",
        "=========================================\n",
        "\n",
        "INFO:pypet.HDF5StorageService:Storing Data of single run `run_00000008`.\n",
        "INFO:pypet:\n",
        "=========================================\n",
        " Finished single run #7 of 63 \n",
        "=========================================\n",
        "\n"
       ]
      },
      {
       "output_type": "stream",
       "stream": "stderr",
       "text": [
        "INFO:pypet.HDF5StorageService:Finishing Storage of single run `run_00000008`.\n",
        "INFO:pypet:\n",
        "=========================================\n",
        " Starting single run #11 of 63 \n",
        "=========================================\n",
        "\n",
        "INFO:pypet.HDF5StorageService:Storing Data of single run `run_00000009`.\n",
        "INFO:pypet:\n",
        "=========================================\n",
        " Finished single run #8 of 63 \n",
        "=========================================\n",
        "\n"
       ]
      },
      {
       "output_type": "stream",
       "stream": "stderr",
       "text": [
        "INFO:pypet:\n",
        "=========================================\n",
        " Starting single run #12 of 63 \n",
        "=========================================\n",
        "\n",
        "INFO:pypet.HDF5StorageService:Finishing Storage of single run `run_00000009`.\n",
        "INFO:pypet.HDF5StorageService:Storing Data of single run `run_00000010`.\n",
        "INFO:pypet:\n",
        "=========================================\n",
        " Finished single run #9 of 63 \n",
        "=========================================\n",
        "\n"
       ]
      },
      {
       "output_type": "stream",
       "stream": "stderr",
       "text": [
        "INFO:pypet.HDF5StorageService:Finishing Storage of single run `run_00000010`.\n",
        "INFO:pypet:\n",
        "=========================================\n",
        " Starting single run #13 of 63 \n",
        "=========================================\n",
        "\n",
        "INFO:pypet.HDF5StorageService:Storing Data of single run `run_00000011`.\n",
        "INFO:pypet:\n",
        "=========================================\n",
        " Finished single run #10 of 63 \n",
        "=========================================\n",
        "\n"
       ]
      },
      {
       "output_type": "stream",
       "stream": "stderr",
       "text": [
        "INFO:pypet.HDF5StorageService:Finishing Storage of single run `run_00000011`.\n",
        "INFO:pypet:\n",
        "=========================================\n",
        " Starting single run #14 of 63 \n",
        "=========================================\n",
        "\n",
        "INFO:pypet.HDF5StorageService:Storing Data of single run `run_00000012`.\n",
        "INFO:pypet:\n",
        "=========================================\n",
        " Finished single run #11 of 63 \n",
        "=========================================\n",
        "\n"
       ]
      },
      {
       "output_type": "stream",
       "stream": "stderr",
       "text": [
        "INFO:pypet.HDF5StorageService:Finishing Storage of single run `run_00000012`.\n",
        "INFO:pypet:\n",
        "=========================================\n",
        " Starting single run #15 of 63 \n",
        "=========================================\n",
        "\n",
        "INFO:pypet.HDF5StorageService:Storing Data of single run `run_00000013`.\n",
        "INFO:pypet:\n",
        "=========================================\n",
        " Finished single run #12 of 63 \n",
        "=========================================\n",
        "\n"
       ]
      },
      {
       "output_type": "stream",
       "stream": "stderr",
       "text": [
        "INFO:pypet.HDF5StorageService:Finishing Storage of single run `run_00000013`.\n",
        "INFO:pypet:\n",
        "=========================================\n",
        " Starting single run #16 of 63 \n",
        "=========================================\n",
        "\n",
        "INFO:pypet.HDF5StorageService:Storing Data of single run `run_00000014`.\n",
        "INFO:pypet:\n",
        "=========================================\n",
        " Finished single run #13 of 63 \n",
        "=========================================\n",
        "\n"
       ]
      },
      {
       "output_type": "stream",
       "stream": "stderr",
       "text": [
        "INFO:pypet:\n",
        "=========================================\n",
        " Starting single run #17 of 63 \n",
        "=========================================\n",
        "\n",
        "INFO:pypet.HDF5StorageService:Finishing Storage of single run `run_00000014`.\n",
        "INFO:pypet.HDF5StorageService:Storing Data of single run `run_00000015`.\n",
        "INFO:pypet:\n",
        "=========================================\n",
        " Finished single run #14 of 63 \n",
        "=========================================\n",
        "\n"
       ]
      },
      {
       "output_type": "stream",
       "stream": "stderr",
       "text": [
        "INFO:pypet.HDF5StorageService:Finishing Storage of single run `run_00000015`.\n",
        "INFO:pypet:\n",
        "=========================================\n",
        " Starting single run #18 of 63 \n",
        "=========================================\n",
        "\n",
        "INFO:pypet.HDF5StorageService:Storing Data of single run `run_00000016`.\n",
        "INFO:pypet:\n",
        "=========================================\n",
        " Finished single run #15 of 63 \n",
        "=========================================\n",
        "\n"
       ]
      },
      {
       "output_type": "stream",
       "stream": "stderr",
       "text": [
        "INFO:pypet.HDF5StorageService:Finishing Storage of single run `run_00000016`.\n",
        "INFO:pypet:\n",
        "=========================================\n",
        " Starting single run #19 of 63 \n",
        "=========================================\n",
        "\n",
        "INFO:pypet.HDF5StorageService:Storing Data of single run `run_00000017`.\n",
        "INFO:pypet:\n",
        "=========================================\n",
        " Finished single run #16 of 63 \n",
        "=========================================\n",
        "\n"
       ]
      },
      {
       "output_type": "stream",
       "stream": "stderr",
       "text": [
        "INFO:pypet.HDF5StorageService:Finishing Storage of single run `run_00000017`.\n",
        "INFO:pypet:\n",
        "=========================================\n",
        " Starting single run #20 of 63 \n",
        "=========================================\n",
        "\n",
        "INFO:pypet.HDF5StorageService:Storing Data of single run `run_00000018`.\n",
        "INFO:pypet:\n",
        "=========================================\n",
        " Finished single run #17 of 63 \n",
        "=========================================\n",
        "\n"
       ]
      },
      {
       "output_type": "stream",
       "stream": "stderr",
       "text": [
        "INFO:pypet.HDF5StorageService:Finishing Storage of single run `run_00000018`.\n",
        "INFO:pypet:\n",
        "=========================================\n",
        " Starting single run #21 of 63 \n",
        "=========================================\n",
        "\n",
        "INFO:pypet.HDF5StorageService:Storing Data of single run `run_00000019`.\n",
        "INFO:pypet:\n",
        "=========================================\n",
        " Finished single run #18 of 63 \n",
        "=========================================\n",
        "\n"
       ]
      },
      {
       "output_type": "stream",
       "stream": "stderr",
       "text": [
        "INFO:pypet:\n",
        "=========================================\n",
        " Starting single run #22 of 63 \n",
        "=========================================\n",
        "\n",
        "INFO:pypet.HDF5StorageService:Finishing Storage of single run `run_00000019`.\n",
        "INFO:pypet.HDF5StorageService:Storing Data of single run `run_00000020`.\n",
        "INFO:pypet:\n",
        "=========================================\n",
        " Finished single run #19 of 63 \n",
        "=========================================\n",
        "\n"
       ]
      },
      {
       "output_type": "stream",
       "stream": "stderr",
       "text": [
        "INFO:pypet.HDF5StorageService:Finishing Storage of single run `run_00000020`.\n",
        "INFO:pypet:\n",
        "=========================================\n",
        " Starting single run #23 of 63 \n",
        "=========================================\n",
        "\n",
        "INFO:pypet.HDF5StorageService:Storing Data of single run `run_00000021`.\n",
        "INFO:pypet:\n",
        "=========================================\n",
        " Finished single run #20 of 63 \n",
        "=========================================\n",
        "\n"
       ]
      },
      {
       "output_type": "stream",
       "stream": "stderr",
       "text": [
        "INFO:pypet.HDF5StorageService:Finishing Storage of single run `run_00000021`.\n",
        "INFO:pypet:\n",
        "=========================================\n",
        " Starting single run #24 of 63 \n",
        "=========================================\n",
        "\n",
        "INFO:pypet.HDF5StorageService:Storing Data of single run `run_00000022`.\n",
        "INFO:pypet:\n",
        "=========================================\n",
        " Finished single run #21 of 63 \n",
        "=========================================\n",
        "\n"
       ]
      },
      {
       "output_type": "stream",
       "stream": "stderr",
       "text": [
        "INFO:pypet.HDF5StorageService:Finishing Storage of single run `run_00000022`.\n",
        "INFO:pypet:\n",
        "=========================================\n",
        " Starting single run #25 of 63 \n",
        "=========================================\n",
        "\n",
        "INFO:pypet.HDF5StorageService:Storing Data of single run `run_00000023`.\n",
        "INFO:pypet:\n",
        "=========================================\n",
        " Finished single run #22 of 63 \n",
        "=========================================\n",
        "\n",
        "INFO:pypet.HDF5StorageService:Finishing Storage of single run `run_00000023`.\n"
       ]
      },
      {
       "output_type": "stream",
       "stream": "stderr",
       "text": [
        "INFO:pypet:\n",
        "=========================================\n",
        " Starting single run #26 of 63 \n",
        "=========================================\n",
        "\n",
        "INFO:pypet.HDF5StorageService:Storing Data of single run `run_00000024`.\n",
        "INFO:pypet:\n",
        "=========================================\n",
        " Finished single run #23 of 63 \n",
        "=========================================\n",
        "\n",
        "INFO:pypet.HDF5StorageService:Finishing Storage of single run `run_00000024`.\n"
       ]
      },
      {
       "output_type": "stream",
       "stream": "stderr",
       "text": [
        "INFO:pypet:\n",
        "=========================================\n",
        " Finished single run #24 of 63 \n",
        "=========================================\n",
        "\n",
        "INFO:pypet.HDF5StorageService:Storing Data of single run `run_00000025`.\n"
       ]
      },
      {
       "output_type": "stream",
       "stream": "stderr",
       "text": [
        "INFO:pypet:\n",
        "=========================================\n",
        " Starting single run #27 of 63 \n",
        "=========================================\n",
        "\n",
        "INFO:pypet.HDF5StorageService:Finishing Storage of single run `run_00000025`.\n",
        "INFO:pypet:\n",
        "=========================================\n",
        " Starting single run #28 of 63 \n",
        "=========================================\n",
        "\n",
        "INFO:pypet.HDF5StorageService:Storing Data of single run `run_00000026`.\n",
        "INFO:pypet.HDF5StorageService:Finishing Storage of single run `run_00000026`.\n",
        "INFO:pypet:\n",
        "=========================================\n",
        " Finished single run #25 of 63 \n",
        "=========================================\n",
        "\n"
       ]
      },
      {
       "output_type": "stream",
       "stream": "stderr",
       "text": [
        "INFO:pypet:\n",
        "=========================================\n",
        " Finished single run #26 of 63 \n",
        "=========================================\n",
        "\n",
        "INFO:pypet.HDF5StorageService:Storing Data of single run `run_00000027`.\n",
        "INFO:pypet:\n",
        "=========================================\n",
        " Starting single run #29 of 63 \n",
        "=========================================\n",
        "\n"
       ]
      },
      {
       "output_type": "stream",
       "stream": "stderr",
       "text": [
        "INFO:pypet.HDF5StorageService:Finishing Storage of single run `run_00000027`.\n",
        "INFO:pypet:\n",
        "=========================================\n",
        " Starting single run #30 of 63 \n",
        "=========================================\n",
        "\n",
        "INFO:pypet.HDF5StorageService:Storing Data of single run `run_00000028`.\n",
        "INFO:pypet:\n",
        "=========================================\n",
        " Finished single run #27 of 63 \n",
        "=========================================\n",
        "\n"
       ]
      },
      {
       "output_type": "stream",
       "stream": "stderr",
       "text": [
        "INFO:pypet.HDF5StorageService:Finishing Storage of single run `run_00000028`.\n",
        "INFO:pypet:\n",
        "=========================================\n",
        " Starting single run #31 of 63 \n",
        "=========================================\n",
        "\n",
        "INFO:pypet.HDF5StorageService:Storing Data of single run `run_00000029`.\n",
        "INFO:pypet:\n",
        "=========================================\n",
        " Finished single run #28 of 63 \n",
        "=========================================\n",
        "\n"
       ]
      },
      {
       "output_type": "stream",
       "stream": "stderr",
       "text": [
        "INFO:pypet.HDF5StorageService:Finishing Storage of single run `run_00000029`.\n",
        "INFO:pypet:\n",
        "=========================================\n",
        " Starting single run #32 of 63 \n",
        "=========================================\n",
        "\n",
        "INFO:pypet.HDF5StorageService:Storing Data of single run `run_00000030`.\n",
        "INFO:pypet:\n",
        "=========================================\n",
        " Finished single run #29 of 63 \n",
        "=========================================\n",
        "\n",
        "INFO:pypet.HDF5StorageService:Finishing Storage of single run `run_00000030`.\n"
       ]
      },
      {
       "output_type": "stream",
       "stream": "stderr",
       "text": [
        "INFO:pypet.HDF5StorageService:Storing Data of single run `run_00000031`.\n",
        "INFO:pypet:\n",
        "=========================================\n",
        " Finished single run #30 of 63 \n",
        "=========================================\n",
        "\n",
        "INFO:pypet:\n",
        "=========================================\n",
        " Starting single run #33 of 63 \n",
        "=========================================\n",
        "\n",
        "INFO:pypet.HDF5StorageService:Finishing Storage of single run `run_00000031`.\n"
       ]
      },
      {
       "output_type": "stream",
       "stream": "stderr",
       "text": [
        "INFO:pypet:\n",
        "=========================================\n",
        " Starting single run #34 of 63 \n",
        "=========================================\n",
        "\n",
        "INFO:pypet:\n",
        "=========================================\n",
        " Finished single run #31 of 63 \n",
        "=========================================\n",
        "\n",
        "INFO:pypet.HDF5StorageService:Storing Data of single run `run_00000032`.\n"
       ]
      },
      {
       "output_type": "stream",
       "stream": "stderr",
       "text": [
        "INFO:pypet.HDF5StorageService:Finishing Storage of single run `run_00000032`.\n",
        "INFO:pypet:\n",
        "=========================================\n",
        " Starting single run #35 of 63 \n",
        "=========================================\n",
        "\n",
        "INFO:pypet.HDF5StorageService:Storing Data of single run `run_00000033`.\n",
        "INFO:pypet:\n",
        "=========================================\n",
        " Finished single run #32 of 63 \n",
        "=========================================\n",
        "\n"
       ]
      },
      {
       "output_type": "stream",
       "stream": "stderr",
       "text": [
        "INFO:pypet.HDF5StorageService:Finishing Storage of single run `run_00000033`.\n",
        "INFO:pypet:\n",
        "=========================================\n",
        " Starting single run #36 of 63 \n",
        "=========================================\n",
        "\n",
        "INFO:pypet.HDF5StorageService:Storing Data of single run `run_00000034`.\n",
        "INFO:pypet:\n",
        "=========================================\n",
        " Finished single run #33 of 63 \n",
        "=========================================\n",
        "\n",
        "INFO:pypet.HDF5StorageService:Finishing Storage of single run `run_00000034`.\n"
       ]
      },
      {
       "output_type": "stream",
       "stream": "stderr",
       "text": [
        "INFO:pypet:\n",
        "=========================================\n",
        " Finished single run #34 of 63 \n",
        "=========================================\n",
        "\n",
        "INFO:pypet:\n",
        "=========================================\n",
        " Starting single run #37 of 63 \n",
        "=========================================\n",
        "\n",
        "INFO:pypet.HDF5StorageService:Storing Data of single run `run_00000035`.\n",
        "INFO:pypet.HDF5StorageService:Finishing Storage of single run `run_00000035`.\n"
       ]
      },
      {
       "output_type": "stream",
       "stream": "stderr",
       "text": [
        "INFO:pypet:\n",
        "=========================================\n",
        " Finished single run #35 of 63 \n",
        "=========================================\n",
        "\n",
        "INFO:pypet:\n",
        "=========================================\n",
        " Starting single run #38 of 63 \n",
        "=========================================\n",
        "\n",
        "INFO:pypet.HDF5StorageService:Storing Data of single run `run_00000036`.\n"
       ]
      },
      {
       "output_type": "stream",
       "stream": "stderr",
       "text": [
        "INFO:pypet.HDF5StorageService:Finishing Storage of single run `run_00000036`.\n",
        "INFO:pypet:\n",
        "=========================================\n",
        " Starting single run #39 of 63 \n",
        "=========================================\n",
        "\n",
        "INFO:pypet.HDF5StorageService:Storing Data of single run `run_00000037`.\n",
        "INFO:pypet:\n",
        "=========================================\n",
        " Finished single run #36 of 63 \n",
        "=========================================\n",
        "\n",
        "INFO:pypet.HDF5StorageService:Finishing Storage of single run `run_00000037`.\n"
       ]
      },
      {
       "output_type": "stream",
       "stream": "stderr",
       "text": [
        "INFO:pypet:\n",
        "=========================================\n",
        " Finished single run #37 of 63 \n",
        "=========================================\n",
        "\n",
        "INFO:pypet.HDF5StorageService:Storing Data of single run `run_00000038`.\n",
        "INFO:pypet:\n",
        "=========================================\n",
        " Starting single run #40 of 63 \n",
        "=========================================\n",
        "\n"
       ]
      },
      {
       "output_type": "stream",
       "stream": "stderr",
       "text": [
        "INFO:pypet.HDF5StorageService:Finishing Storage of single run `run_00000038`.\n",
        "INFO:pypet:\n",
        "=========================================\n",
        " Starting single run #41 of 63 \n",
        "=========================================\n",
        "\n",
        "INFO:pypet.HDF5StorageService:Storing Data of single run `run_00000039`.\n",
        "INFO:pypet:\n",
        "=========================================\n",
        " Finished single run #38 of 63 \n",
        "=========================================\n",
        "\n"
       ]
      },
      {
       "output_type": "stream",
       "stream": "stderr",
       "text": [
        "INFO:pypet.HDF5StorageService:Finishing Storage of single run `run_00000039`.\n",
        "INFO:pypet:\n",
        "=========================================\n",
        " Starting single run #42 of 63 \n",
        "=========================================\n",
        "\n",
        "INFO:pypet.HDF5StorageService:Storing Data of single run `run_00000040`.\n",
        "INFO:pypet:\n",
        "=========================================\n",
        " Finished single run #39 of 63 \n",
        "=========================================\n",
        "\n"
       ]
      },
      {
       "output_type": "stream",
       "stream": "stderr",
       "text": [
        "INFO:pypet.HDF5StorageService:Finishing Storage of single run `run_00000040`.\n",
        "INFO:pypet:\n",
        "=========================================\n",
        " Starting single run #43 of 63 \n",
        "=========================================\n",
        "\n",
        "INFO:pypet.HDF5StorageService:Storing Data of single run `run_00000041`.\n",
        "INFO:pypet:\n",
        "=========================================\n",
        " Finished single run #40 of 63 \n",
        "=========================================\n",
        "\n",
        "INFO:pypet.HDF5StorageService:Finishing Storage of single run `run_00000041`.\n"
       ]
      },
      {
       "output_type": "stream",
       "stream": "stderr",
       "text": [
        "INFO:pypet:\n",
        "=========================================\n",
        " Starting single run #44 of 63 \n",
        "=========================================\n",
        "\n",
        "INFO:pypet.HDF5StorageService:Storing Data of single run `run_00000042`.\n",
        "INFO:pypet:\n",
        "=========================================\n",
        " Finished single run #41 of 63 \n",
        "=========================================\n",
        "\n"
       ]
      },
      {
       "output_type": "stream",
       "stream": "stderr",
       "text": [
        "INFO:pypet:\n",
        "=========================================\n",
        " Starting single run #45 of 63 \n",
        "=========================================\n",
        "\n",
        "INFO:pypet.HDF5StorageService:Finishing Storage of single run `run_00000042`.\n",
        "INFO:pypet.HDF5StorageService:Storing Data of single run `run_00000043`.\n",
        "INFO:pypet.HDF5StorageService:Finishing Storage of single run `run_00000043`.\n",
        "INFO:pypet:\n",
        "=========================================\n",
        " Finished single run #42 of 63 \n",
        "=========================================\n",
        "\n"
       ]
      },
      {
       "output_type": "stream",
       "stream": "stderr",
       "text": [
        "INFO:pypet:\n",
        "=========================================\n",
        " Starting single run #46 of 63 \n",
        "=========================================\n",
        "\n",
        "INFO:pypet.HDF5StorageService:Storing Data of single run `run_00000045`.\n",
        "INFO:pypet:\n",
        "=========================================\n",
        " Finished single run #43 of 63 \n",
        "=========================================\n",
        "\n",
        "INFO:pypet.HDF5StorageService:Finishing Storage of single run `run_00000045`.\n"
       ]
      },
      {
       "output_type": "stream",
       "stream": "stderr",
       "text": [
        "INFO:pypet.HDF5StorageService:Storing Data of single run `run_00000044`.\n",
        "INFO:pypet:\n",
        "=========================================\n",
        " Finished single run #45 of 63 \n",
        "=========================================\n",
        "\n",
        "INFO:pypet:\n",
        "=========================================\n",
        " Starting single run #47 of 63 \n",
        "=========================================\n",
        "\n"
       ]
      },
      {
       "output_type": "stream",
       "stream": "stderr",
       "text": [
        "INFO:pypet.HDF5StorageService:Finishing Storage of single run `run_00000044`.\n",
        "INFO:pypet:\n",
        "=========================================\n",
        " Starting single run #48 of 63 \n",
        "=========================================\n",
        "\n",
        "INFO:pypet.HDF5StorageService:Storing Data of single run `run_00000046`.\n",
        "INFO:pypet:\n",
        "=========================================\n",
        " Finished single run #44 of 63 \n",
        "=========================================\n",
        "\n"
       ]
      },
      {
       "output_type": "stream",
       "stream": "stderr",
       "text": [
        "INFO:pypet.HDF5StorageService:Finishing Storage of single run `run_00000046`.\n",
        "INFO:pypet:\n",
        "=========================================\n",
        " Starting single run #49 of 63 \n",
        "=========================================\n",
        "\n",
        "INFO:pypet.HDF5StorageService:Storing Data of single run `run_00000047`.\n",
        "INFO:pypet:\n",
        "=========================================\n",
        " Finished single run #46 of 63 \n",
        "=========================================\n",
        "\n"
       ]
      },
      {
       "output_type": "stream",
       "stream": "stderr",
       "text": [
        "INFO:pypet.HDF5StorageService:Finishing Storage of single run `run_00000047`.\n",
        "INFO:pypet:\n",
        "=========================================\n",
        " Starting single run #50 of 63 \n",
        "=========================================\n",
        "\n",
        "INFO:pypet.HDF5StorageService:Storing Data of single run `run_00000048`.\n",
        "INFO:pypet:\n",
        "=========================================\n",
        " Finished single run #47 of 63 \n",
        "=========================================\n",
        "\n",
        "INFO:pypet.HDF5StorageService:Finishing Storage of single run `run_00000048`.\n"
       ]
      },
      {
       "output_type": "stream",
       "stream": "stderr",
       "text": [
        "INFO:pypet.HDF5StorageService:Storing Data of single run `run_00000049`.\n",
        "INFO:pypet:\n",
        "=========================================\n",
        " Finished single run #48 of 63 \n",
        "=========================================\n",
        "\n",
        "INFO:pypet:\n",
        "=========================================\n",
        " Starting single run #51 of 63 \n",
        "=========================================\n",
        "\n"
       ]
      },
      {
       "output_type": "stream",
       "stream": "stderr",
       "text": [
        "INFO:pypet.HDF5StorageService:Finishing Storage of single run `run_00000049`.\n",
        "INFO:pypet:\n",
        "=========================================\n",
        " Starting single run #52 of 63 \n",
        "=========================================\n",
        "\n",
        "INFO:pypet.HDF5StorageService:Storing Data of single run `run_00000050`.\n",
        "INFO:pypet:\n",
        "=========================================\n",
        " Finished single run #49 of 63 \n",
        "=========================================\n",
        "\n",
        "INFO:pypet.HDF5StorageService:Finishing Storage of single run `run_00000050`.\n"
       ]
      },
      {
       "output_type": "stream",
       "stream": "stderr",
       "text": [
        "INFO:pypet:\n",
        "=========================================\n",
        " Finished single run #50 of 63 \n",
        "=========================================\n",
        "\n",
        "INFO:pypet.HDF5StorageService:Storing Data of single run `run_00000051`.\n"
       ]
      },
      {
       "output_type": "stream",
       "stream": "stderr",
       "text": [
        "INFO:pypet:\n",
        "=========================================\n",
        " Starting single run #53 of 63 \n",
        "=========================================\n",
        "\n",
        "INFO:pypet:\n",
        "=========================================\n",
        " Starting single run #54 of 63 \n",
        "=========================================\n",
        "\n",
        "INFO:pypet.HDF5StorageService:Finishing Storage of single run `run_00000051`.\n",
        "INFO:pypet.HDF5StorageService:Storing Data of single run `run_00000052`.\n",
        "INFO:pypet.HDF5StorageService:Finishing Storage of single run `run_00000052`.\n",
        "INFO:pypet:\n",
        "=========================================\n",
        " Finished single run #51 of 63 \n",
        "=========================================\n",
        "\n"
       ]
      },
      {
       "output_type": "stream",
       "stream": "stderr",
       "text": [
        "INFO:pypet:\n",
        "=========================================\n",
        " Finished single run #52 of 63 \n",
        "=========================================\n",
        "\n",
        "INFO:pypet.HDF5StorageService:Storing Data of single run `run_00000053`.\n",
        "INFO:pypet:\n",
        "=========================================\n",
        " Starting single run #55 of 63 \n",
        "=========================================\n",
        "\n"
       ]
      },
      {
       "output_type": "stream",
       "stream": "stderr",
       "text": [
        "INFO:pypet.HDF5StorageService:Finishing Storage of single run `run_00000053`.\n",
        "INFO:pypet:\n",
        "=========================================\n",
        " Starting single run #56 of 63 \n",
        "=========================================\n",
        "\n",
        "INFO:pypet.HDF5StorageService:Storing Data of single run `run_00000054`.\n",
        "INFO:pypet:\n",
        "=========================================\n",
        " Finished single run #53 of 63 \n",
        "=========================================\n",
        "\n"
       ]
      },
      {
       "output_type": "stream",
       "stream": "stderr",
       "text": [
        "INFO:pypet.HDF5StorageService:Finishing Storage of single run `run_00000054`.\n",
        "INFO:pypet:\n",
        "=========================================\n",
        " Starting single run #57 of 63 \n",
        "=========================================\n",
        "\n",
        "INFO:pypet.HDF5StorageService:Storing Data of single run `run_00000055`.\n",
        "INFO:pypet:\n",
        "=========================================\n",
        " Finished single run #54 of 63 \n",
        "=========================================\n",
        "\n"
       ]
      },
      {
       "output_type": "stream",
       "stream": "stderr",
       "text": [
        "INFO:pypet.HDF5StorageService:Finishing Storage of single run `run_00000055`.\n",
        "INFO:pypet:\n",
        "=========================================\n",
        " Starting single run #58 of 63 \n",
        "=========================================\n",
        "\n",
        "INFO:pypet.HDF5StorageService:Storing Data of single run `run_00000056`.\n",
        "INFO:pypet:\n",
        "=========================================\n",
        " Finished single run #55 of 63 \n",
        "=========================================\n",
        "\n"
       ]
      },
      {
       "output_type": "stream",
       "stream": "stderr",
       "text": [
        "INFO:pypet:\n",
        "=========================================\n",
        " Starting single run #59 of 63 \n",
        "=========================================\n",
        "\n",
        "INFO:pypet.HDF5StorageService:Finishing Storage of single run `run_00000056`.\n",
        "INFO:pypet.HDF5StorageService:Storing Data of single run `run_00000057`.\n",
        "INFO:pypet:\n",
        "=========================================\n",
        " Finished single run #56 of 63 \n",
        "=========================================\n",
        "\n"
       ]
      },
      {
       "output_type": "stream",
       "stream": "stderr",
       "text": [
        "INFO:pypet.HDF5StorageService:Finishing Storage of single run `run_00000057`.\n",
        "INFO:pypet:\n",
        "=========================================\n",
        " Starting single run #60 of 63 \n",
        "=========================================\n",
        "\n",
        "INFO:pypet.HDF5StorageService:Storing Data of single run `run_00000058`.\n",
        "INFO:pypet.HDF5StorageService:Storing Data of single run `run_00000059`.\n",
        "INFO:pypet:\n",
        "=========================================\n",
        " Finished single run #57 of 63 \n",
        "=========================================\n",
        "\n",
        "INFO:pypet.HDF5StorageService:Finishing Storage of single run `run_00000058`.\n",
        "INFO:pypet:\n",
        "=========================================\n",
        " Finished single run #58 of 63 \n",
        "=========================================\n",
        "\n"
       ]
      },
      {
       "output_type": "stream",
       "stream": "stderr",
       "text": [
        "INFO:pypet:\n",
        "=========================================\n",
        " Starting single run #61 of 63 \n",
        "=========================================\n",
        "\n"
       ]
      },
      {
       "output_type": "stream",
       "stream": "stderr",
       "text": [
        "INFO:pypet.Environment:\n",
        "************************************************************\n",
        "FINISHED all runs of trajectory\n",
        "`FiringRate`\n",
        "in parallel with 4 cores.\n",
        "************************************************************\n",
        "\n",
        "INFO:pypet.HDF5StorageService:Finishing Storage of single run `run_00000059`.\n",
        "INFO:pypet:\n",
        "=========================================\n",
        " Starting single run #62 of 63 \n",
        "=========================================\n",
        "\n",
        "INFO:pypet.HDF5StorageService:Storing Data of single run `run_00000060`.\n",
        "INFO:pypet.HDF5StorageService:Storing Data of single run `run_00000061`.\n",
        "INFO:pypet:\n",
        "=========================================\n",
        " Finished single run #59 of 63 \n",
        "=========================================\n",
        "\n",
        "INFO:pypet.HDF5StorageService:Storing Data of single run `run_00000062`.\n",
        "INFO:pypet.HDF5StorageService:Finishing Storage of single run `run_00000060`.\n",
        "INFO:pypet.HDF5StorageService:Finishing Storage of single run `run_00000061`.\n",
        "INFO:pypet.HDF5StorageService:Finishing Storage of single run `run_00000062`.\n",
        "INFO:pypet:\n",
        "=========================================\n",
        " Finished single run #60 of 63 \n",
        "=========================================\n",
        "\n",
        "INFO:pypet:\n",
        "=========================================\n",
        " Finished single run #61 of 63 \n",
        "=========================================\n",
        "\n",
        "INFO:pypet:\n",
        "=========================================\n",
        " Finished single run #62 of 63 \n",
        "=========================================\n",
        "\n"
       ]
      },
      {
       "output_type": "stream",
       "stream": "stderr",
       "text": [
        "INFO:pypet.HDF5StorageService:Checked meta data of trajectory `FiringRate`.\n"
       ]
      },
      {
       "output_type": "stream",
       "stream": "stderr",
       "text": [
        "INFO:pypet.Environment:\n",
        "************************************************************\n",
        "STARTING FINAL STORING of trajectory\n",
        "`FiringRate`\n",
        "************************************************************\n",
        "\n"
       ]
      },
      {
       "output_type": "stream",
       "stream": "stderr",
       "text": [
        "INFO:pypet.HDF5StorageService:Start storing Trajectory `FiringRate`.\n"
       ]
      },
      {
       "output_type": "stream",
       "stream": "stderr",
       "text": [
        "INFO:pypet.HDF5StorageService:Storing branch `config`.\n"
       ]
      },
      {
       "output_type": "stream",
       "stream": "stderr",
       "text": [
        "INFO:pypet.HDF5StorageService:Storing branch `parameters`.\n"
       ]
      },
      {
       "output_type": "stream",
       "stream": "stderr",
       "text": [
        "INFO:pypet.HDF5StorageService:Finished storing Trajectory `FiringRate`.\n"
       ]
      },
      {
       "output_type": "stream",
       "stream": "stderr",
       "text": [
        "INFO:pypet.Environment:\n",
        "************************************************************\n",
        "FINISHED FINAL STORING of trajectory\n",
        "`FiringRate`.\n",
        "************************************************************\n",
        "\n"
       ]
      },
      {
       "output_type": "stream",
       "stream": "stderr",
       "text": [
        "INFO:pypet.HDF5StorageService:Checked meta data of trajectory `FiringRate`.\n"
       ]
      },
      {
       "output_type": "stream",
       "stream": "stderr",
       "text": [
        "INFO:pypet.Environment:All runs of trajectory `FiringRate` were completed succesfully.\n"
       ]
      },
      {
       "output_type": "stream",
       "stream": "stderr",
       "text": [
        "INFO:pypet.Environment:Disabling logging to the error file\n"
       ]
      },
      {
       "output_type": "stream",
       "stream": "stderr",
       "text": [
        "INFO:pypet.Environment:Disabling logging to main file\n"
       ]
      }
     ],
     "prompt_number": 18
    },
    {
     "cell_type": "markdown",
     "metadata": {},
     "source": [
      "So we can nicely inspect the HDF5 file and all our data is there.\n",
      "\n",
      "Let's do a bit more, our `pypet_neuron` function currently returns an\n",
      "estimate of the firing rate. But this is lost at the moment.\n",
      "\n",
      "We can define custom post-processing, that will be automatically called\n",
      "after the execution of the simulation.\n",
      "\n",
      "We will collect all results and put these into a table aka \n",
      "[pandas DataFrame](http://pandas.pydata.org/pandas-docs/dev/generated/pandas.DataFrame.html) to have a nice overview of input parameters and the resulting firing rate."
     ]
    },
    {
     "cell_type": "code",
     "collapsed": false,
     "input": [
      "def neuron_postproc(traj, result_list):\n",
      "    \"\"\"Postprocessing, sorts computed firing rates into a table\"\"\"\n",
      "\n",
      "    # Let's create a pandas DataFrame to sort the computed firing rate according to the\n",
      "    # parameters. We could have also used a 2D numpy array.\n",
      "    # But a pandas DataFrame has the advantage that we can index into directly with\n",
      "    # the parameter values without translating these into integer indices.\n",
      "    I_range = traj.par.neuron.f_get('I').f_get_range()\n",
      "    ref_range = traj.par.neuron.f_get('tau_ref').f_get_range()\n",
      "\n",
      "    I_index = sorted(set(I_range))\n",
      "    ref_index = sorted(set(ref_range))\n",
      "    rates_frame = pd.DataFrame(columns=ref_index, index=I_index)\n",
      "    # This frame is basically a two dimensional table that we can index with our\n",
      "    # parameters\n",
      "\n",
      "    # Now iterate over the results. The result list is a list of tuples, with the\n",
      "    # run index at first position and our result at the second\n",
      "    for result_tuple in result_list:\n",
      "        run_idx = result_tuple[0]\n",
      "        firing_rates = result_tuple[1]\n",
      "        I_val = I_range[run_idx]\n",
      "        ref_val = ref_range[run_idx]\n",
      "        rates_frame.loc[I_val, ref_val] = firing_rates # Put the firing rate into the\n",
      "        # data frame\n",
      "\n",
      "    # Finally we going to store our new firing rate table into the trajectory\n",
      "    traj.f_add_result('summary.firing_rates', rates_frame=rates_frame,\n",
      "                      comment='Contains a pandas data frame with all firing rates.')"
     ],
     "language": "python",
     "metadata": {},
     "outputs": [],
     "prompt_number": 8
    },
    {
     "cell_type": "markdown",
     "metadata": {},
     "source": [
      "Ok let's run everything again, but also add the post-processing to the environment."
     ]
    },
    {
     "cell_type": "code",
     "collapsed": false,
     "input": [
      "filename = os.path.join('hdf5', 'FiringRate.hdf5')\n",
      "env = Environment(trajectory='FiringRate',\n",
      "                  comment='Experiment to measure the firing rate '\n",
      "                        'of a leaky integrate and fire neuron. '\n",
      "                        'Exploring different input currents, '\n",
      "                        'as well as refractory periods',\n",
      "                  add_time=False, # We don't want to add the current time to the name,\n",
      "                  log_folder='logs',\n",
      "                  log_level=logging.INFO,\n",
      "                  log_stdout=False, # Important since we operate in Ipython notebook\n",
      "                  multiproc=True,\n",
      "                  ncores=4, #My laptop has 4 cores ;-)\n",
      "                  wrap_mode='LOCK',\n",
      "                  filename=filename,\n",
      "                  git_repository='../',\n",
      "                  overwrite_file=True)\n",
      "\n",
      "traj = env.v_trajectory\n",
      "\n",
      "# Add parameters\n",
      "add_parameters(traj)\n",
      "\n",
      "# Let's explore\n",
      "add_exploration(traj)\n",
      "\n",
      "# NEW LINE! ADDING POST-PROCESSING\n",
      "env.f_add_postprocessing(neuron_postproc)\n",
      "\n",
      "# Run the experiment\n",
      "env.f_run(pypet_neuron)\n",
      "\n",
      "# Finally disable logging and close all log-files\n",
      "env.f_disable_logging()"
     ],
     "language": "python",
     "metadata": {},
     "outputs": [
      {
       "output_type": "stream",
       "stream": "stderr",
       "text": [
        "INFO:pypet.HDF5StorageService:I will use the hdf5 file `hdf5/FiringRate.hdf5`.\n"
       ]
      },
      {
       "output_type": "stream",
       "stream": "stderr",
       "text": [
        "INFO:pypet.HDF5StorageService:You specified ``overwrite_file=True``, so I deleted file `hdf5/FiringRate.hdf5`.\n"
       ]
      },
      {
       "output_type": "stream",
       "stream": "stderr",
       "text": [
        "INFO:pypet.Environment:Logging all messages of logger `root` to folder `/home/robert/PyCharmProjects/neuron_demo/notebooks/logs/FiringRate/environment_4f996f5_2015_03_03_11h09m23s`.\n"
       ]
      },
      {
       "output_type": "stream",
       "stream": "stderr",
       "text": [
        "INFO:pypet.Environment:No changes detected, added PREVIOUS GIT commit `4f996f5a453583a894ab1b93cc62978e574deddd`.\n"
       ]
      },
      {
       "output_type": "stream",
       "stream": "stderr",
       "text": [
        "INFO:pypet.Environment:Environment initialized.\n"
       ]
      },
      {
       "output_type": "stream",
       "stream": "stderr",
       "text": [
        "INFO:pypet.Environment:I am preparing the Trajectory for the experiment and initialise the store.\n"
       ]
      },
      {
       "output_type": "stream",
       "stream": "stderr",
       "text": [
        "INFO:pypet.Environment:Initialising the storage for the trajectory.\n"
       ]
      },
      {
       "output_type": "stream",
       "stream": "stderr",
       "text": [
        "INFO:pypet.HDF5StorageService:Initialising storage or updating meta data of Trajectory `FiringRate`.\n"
       ]
      },
      {
       "output_type": "stream",
       "stream": "stderr",
       "text": [
        "INFO:pypet.HDF5StorageService:Finished init or meta data update for `FiringRate`.\n"
       ]
      },
      {
       "output_type": "stream",
       "stream": "stdout",
       "text": [
        "Adding exploration of I and tau_ref\n"
       ]
      },
      {
       "output_type": "stream",
       "stream": "stderr",
       "text": [
        "INFO:pypet.HDF5StorageService:Initialising storage or updating meta data of Trajectory `FiringRate`.\n"
       ]
      },
      {
       "output_type": "stream",
       "stream": "stderr",
       "text": [
        "INFO:pypet.HDF5StorageService:Finished init or meta data update for `FiringRate`.\n"
       ]
      },
      {
       "output_type": "stream",
       "stream": "stderr",
       "text": [
        "INFO:pypet.Environment:\n",
        "************************************************************\n",
        "STARTING runs of trajectory\n",
        "`FiringRate`\n",
        "in parallel with 4 cores.\n",
        "************************************************************\n",
        "\n"
       ]
      },
      {
       "output_type": "stream",
       "stream": "stderr",
       "text": [
        "INFO:pypet:\n",
        "=========================================\n",
        " Starting single run #0 of 63 \n",
        "=========================================\n",
        "\n"
       ]
      },
      {
       "output_type": "stream",
       "stream": "stderr",
       "text": [
        "INFO:pypet:\n",
        "=========================================\n",
        " Starting single run #1 of 63 \n",
        "=========================================\n",
        "\n",
        "INFO:pypet:\n",
        "=========================================\n",
        " Starting single run #2 of 63 \n",
        "=========================================\n",
        "\n"
       ]
      },
      {
       "output_type": "stream",
       "stream": "stderr",
       "text": [
        "INFO:pypet.HDF5StorageService:Storing Data of single run `run_00000000`.\n",
        "INFO:pypet:\n",
        "=========================================\n",
        " Starting single run #3 of 63 \n",
        "=========================================\n",
        "\n",
        "INFO:pypet.HDF5StorageService:Storing Data of single run `run_00000001`.\n",
        "INFO:pypet.HDF5StorageService:Finishing Storage of single run `run_00000000`.\n",
        "INFO:pypet:\n",
        "=========================================\n",
        " Finished single run #0 of 63 \n",
        "=========================================\n",
        "\n"
       ]
      },
      {
       "output_type": "stream",
       "stream": "stderr",
       "text": [
        "INFO:pypet:\n",
        "=========================================\n",
        " Starting single run #4 of 63 \n",
        "=========================================\n",
        "\n",
        "INFO:pypet.HDF5StorageService:Finishing Storage of single run `run_00000001`.\n",
        "INFO:pypet.HDF5StorageService:Storing Data of single run `run_00000002`.\n",
        "INFO:pypet:\n",
        "=========================================\n",
        " Finished single run #1 of 63 \n",
        "=========================================\n",
        "\n"
       ]
      },
      {
       "output_type": "stream",
       "stream": "stderr",
       "text": [
        "INFO:pypet:\n",
        "=========================================\n",
        " Starting single run #5 of 63 \n",
        "=========================================\n",
        "\n",
        "INFO:pypet.HDF5StorageService:Finishing Storage of single run `run_00000002`.\n",
        "INFO:pypet.HDF5StorageService:Storing Data of single run `run_00000003`.\n",
        "INFO:pypet:\n",
        "=========================================\n",
        " Finished single run #2 of 63 \n",
        "=========================================\n",
        "\n"
       ]
      },
      {
       "output_type": "stream",
       "stream": "stderr",
       "text": [
        "INFO:pypet.HDF5StorageService:Finishing Storage of single run `run_00000003`.\n",
        "INFO:pypet:\n",
        "=========================================\n",
        " Starting single run #6 of 63 \n",
        "=========================================\n",
        "\n",
        "INFO:pypet.HDF5StorageService:Storing Data of single run `run_00000004`.\n",
        "INFO:pypet:\n",
        "=========================================\n",
        " Finished single run #3 of 63 \n",
        "=========================================\n",
        "\n"
       ]
      },
      {
       "output_type": "stream",
       "stream": "stderr",
       "text": [
        "INFO:pypet.HDF5StorageService:Finishing Storage of single run `run_00000004`.\n",
        "INFO:pypet:\n",
        "=========================================\n",
        " Starting single run #7 of 63 \n",
        "=========================================\n",
        "\n",
        "INFO:pypet.HDF5StorageService:Storing Data of single run `run_00000005`.\n",
        "INFO:pypet:\n",
        "=========================================\n",
        " Finished single run #4 of 63 \n",
        "=========================================\n",
        "\n"
       ]
      },
      {
       "output_type": "stream",
       "stream": "stderr",
       "text": [
        "INFO:pypet.HDF5StorageService:Finishing Storage of single run `run_00000005`.\n",
        "INFO:pypet:\n",
        "=========================================\n",
        " Starting single run #8 of 63 \n",
        "=========================================\n",
        "\n",
        "INFO:pypet.HDF5StorageService:Storing Data of single run `run_00000006`.\n",
        "INFO:pypet:\n",
        "=========================================\n",
        " Finished single run #5 of 63 \n",
        "=========================================\n",
        "\n",
        "INFO:pypet.HDF5StorageService:Finishing Storage of single run `run_00000006`.\n"
       ]
      },
      {
       "output_type": "stream",
       "stream": "stderr",
       "text": [
        "INFO:pypet:\n",
        "=========================================\n",
        " Starting single run #9 of 63 \n",
        "=========================================\n",
        "\n",
        "INFO:pypet:\n",
        "=========================================\n",
        " Finished single run #6 of 63 \n",
        "=========================================\n",
        "\n",
        "INFO:pypet.HDF5StorageService:Storing Data of single run `run_00000007`.\n",
        "INFO:pypet.HDF5StorageService:Finishing Storage of single run `run_00000007`.\n"
       ]
      },
      {
       "output_type": "stream",
       "stream": "stderr",
       "text": [
        "INFO:pypet:\n",
        "=========================================\n",
        " Starting single run #10 of 63 \n",
        "=========================================\n",
        "\n",
        "INFO:pypet:\n",
        "=========================================\n",
        " Finished single run #7 of 63 \n",
        "=========================================\n",
        "\n",
        "INFO:pypet.HDF5StorageService:Storing Data of single run `run_00000008`.\n"
       ]
      },
      {
       "output_type": "stream",
       "stream": "stderr",
       "text": [
        "INFO:pypet.HDF5StorageService:Finishing Storage of single run `run_00000008`.\n",
        "INFO:pypet:\n",
        "=========================================\n",
        " Starting single run #11 of 63 \n",
        "=========================================\n",
        "\n",
        "INFO:pypet.HDF5StorageService:Storing Data of single run `run_00000009`.\n",
        "INFO:pypet:\n",
        "=========================================\n",
        " Finished single run #8 of 63 \n",
        "=========================================\n",
        "\n"
       ]
      },
      {
       "output_type": "stream",
       "stream": "stderr",
       "text": [
        "INFO:pypet.HDF5StorageService:Finishing Storage of single run `run_00000009`.\n",
        "INFO:pypet:\n",
        "=========================================\n",
        " Starting single run #12 of 63 \n",
        "=========================================\n",
        "\n",
        "INFO:pypet.HDF5StorageService:Storing Data of single run `run_00000010`.\n",
        "INFO:pypet:\n",
        "=========================================\n",
        " Finished single run #9 of 63 \n",
        "=========================================\n",
        "\n"
       ]
      },
      {
       "output_type": "stream",
       "stream": "stderr",
       "text": [
        "INFO:pypet:\n",
        "=========================================\n",
        " Starting single run #13 of 63 \n",
        "=========================================\n",
        "\n",
        "INFO:pypet.HDF5StorageService:Finishing Storage of single run `run_00000010`.\n",
        "INFO:pypet.HDF5StorageService:Storing Data of single run `run_00000011`.\n",
        "INFO:pypet:\n",
        "=========================================\n",
        " Finished single run #10 of 63 \n",
        "=========================================\n",
        "\n"
       ]
      },
      {
       "output_type": "stream",
       "stream": "stderr",
       "text": [
        "INFO:pypet.HDF5StorageService:Finishing Storage of single run `run_00000011`.\n",
        "INFO:pypet:\n",
        "=========================================\n",
        " Starting single run #14 of 63 \n",
        "=========================================\n",
        "\n",
        "INFO:pypet.HDF5StorageService:Storing Data of single run `run_00000012`.\n",
        "INFO:pypet:\n",
        "=========================================\n",
        " Finished single run #11 of 63 \n",
        "=========================================\n",
        "\n"
       ]
      },
      {
       "output_type": "stream",
       "stream": "stderr",
       "text": [
        "INFO:pypet:\n",
        "=========================================\n",
        " Starting single run #15 of 63 \n",
        "=========================================\n",
        "\n",
        "INFO:pypet.HDF5StorageService:Finishing Storage of single run `run_00000012`.\n",
        "INFO:pypet.HDF5StorageService:Storing Data of single run `run_00000013`.\n",
        "INFO:pypet:\n",
        "=========================================\n",
        " Finished single run #12 of 63 \n",
        "=========================================\n",
        "\n"
       ]
      },
      {
       "output_type": "stream",
       "stream": "stderr",
       "text": [
        "INFO:pypet.HDF5StorageService:Finishing Storage of single run `run_00000013`.\n",
        "INFO:pypet:\n",
        "=========================================\n",
        " Starting single run #16 of 63 \n",
        "=========================================\n",
        "\n",
        "INFO:pypet.HDF5StorageService:Storing Data of single run `run_00000014`.\n",
        "INFO:pypet:\n",
        "=========================================\n",
        " Finished single run #13 of 63 \n",
        "=========================================\n",
        "\n",
        "INFO:pypet.HDF5StorageService:Finishing Storage of single run `run_00000014`.\n"
       ]
      },
      {
       "output_type": "stream",
       "stream": "stderr",
       "text": [
        "INFO:pypet:\n",
        "=========================================\n",
        " Starting single run #17 of 63 \n",
        "=========================================\n",
        "\n",
        "INFO:pypet:\n",
        "=========================================\n",
        " Finished single run #14 of 63 \n",
        "=========================================\n",
        "\n",
        "INFO:pypet.HDF5StorageService:Storing Data of single run `run_00000015`.\n"
       ]
      },
      {
       "output_type": "stream",
       "stream": "stderr",
       "text": [
        "INFO:pypet.HDF5StorageService:Finishing Storage of single run `run_00000015`.\n",
        "INFO:pypet:\n",
        "=========================================\n",
        " Starting single run #18 of 63 \n",
        "=========================================\n",
        "\n",
        "INFO:pypet.HDF5StorageService:Storing Data of single run `run_00000016`.\n",
        "INFO:pypet:\n",
        "=========================================\n",
        " Finished single run #15 of 63 \n",
        "=========================================\n",
        "\n"
       ]
      },
      {
       "output_type": "stream",
       "stream": "stderr",
       "text": [
        "INFO:pypet.HDF5StorageService:Finishing Storage of single run `run_00000016`.\n",
        "INFO:pypet:\n",
        "=========================================\n",
        " Starting single run #19 of 63 \n",
        "=========================================\n",
        "\n",
        "INFO:pypet.HDF5StorageService:Storing Data of single run `run_00000017`.\n",
        "INFO:pypet:\n",
        "=========================================\n",
        " Finished single run #16 of 63 \n",
        "=========================================\n",
        "\n"
       ]
      },
      {
       "output_type": "stream",
       "stream": "stderr",
       "text": [
        "INFO:pypet.HDF5StorageService:Finishing Storage of single run `run_00000017`.\n",
        "INFO:pypet:\n",
        "=========================================\n",
        " Starting single run #20 of 63 \n",
        "=========================================\n",
        "\n",
        "INFO:pypet.HDF5StorageService:Storing Data of single run `run_00000018`.\n",
        "INFO:pypet:\n",
        "=========================================\n",
        " Finished single run #17 of 63 \n",
        "=========================================\n",
        "\n"
       ]
      },
      {
       "output_type": "stream",
       "stream": "stderr",
       "text": [
        "INFO:pypet:\n",
        "=========================================\n",
        " Starting single run #21 of 63 \n",
        "=========================================\n",
        "\n",
        "INFO:pypet.HDF5StorageService:Finishing Storage of single run `run_00000018`.\n",
        "INFO:pypet.HDF5StorageService:Storing Data of single run `run_00000019`.\n",
        "INFO:pypet:\n",
        "=========================================\n",
        " Finished single run #18 of 63 \n",
        "=========================================\n",
        "\n"
       ]
      },
      {
       "output_type": "stream",
       "stream": "stderr",
       "text": [
        "INFO:pypet.HDF5StorageService:Finishing Storage of single run `run_00000019`.\n",
        "INFO:pypet:\n",
        "=========================================\n",
        " Starting single run #22 of 63 \n",
        "=========================================\n",
        "\n",
        "INFO:pypet.HDF5StorageService:Storing Data of single run `run_00000020`.\n",
        "INFO:pypet:\n",
        "=========================================\n",
        " Finished single run #19 of 63 \n",
        "=========================================\n",
        "\n"
       ]
      },
      {
       "output_type": "stream",
       "stream": "stderr",
       "text": [
        "INFO:pypet:\n",
        "=========================================\n",
        " Starting single run #23 of 63 \n",
        "=========================================\n",
        "\n",
        "INFO:pypet.HDF5StorageService:Finishing Storage of single run `run_00000020`.\n",
        "INFO:pypet.HDF5StorageService:Storing Data of single run `run_00000021`.\n",
        "INFO:pypet:\n",
        "=========================================\n",
        " Finished single run #20 of 63 \n",
        "=========================================\n",
        "\n"
       ]
      },
      {
       "output_type": "stream",
       "stream": "stderr",
       "text": [
        "INFO:pypet.HDF5StorageService:Finishing Storage of single run `run_00000021`.\n",
        "INFO:pypet:\n",
        "=========================================\n",
        " Starting single run #24 of 63 \n",
        "=========================================\n",
        "\n",
        "INFO:pypet.HDF5StorageService:Storing Data of single run `run_00000022`.\n",
        "INFO:pypet:\n",
        "=========================================\n",
        " Finished single run #21 of 63 \n",
        "=========================================\n",
        "\n"
       ]
      },
      {
       "output_type": "stream",
       "stream": "stderr",
       "text": [
        "INFO:pypet.HDF5StorageService:Finishing Storage of single run `run_00000022`.\n",
        "INFO:pypet:\n",
        "=========================================\n",
        " Starting single run #25 of 63 \n",
        "=========================================\n",
        "\n",
        "INFO:pypet.HDF5StorageService:Storing Data of single run `run_00000023`.\n",
        "INFO:pypet:\n",
        "=========================================\n",
        " Finished single run #22 of 63 \n",
        "=========================================\n",
        "\n"
       ]
      },
      {
       "output_type": "stream",
       "stream": "stderr",
       "text": [
        "INFO:pypet:\n",
        "=========================================\n",
        " Starting single run #26 of 63 \n",
        "=========================================\n",
        "\n",
        "INFO:pypet.HDF5StorageService:Finishing Storage of single run `run_00000023`.\n",
        "INFO:pypet.HDF5StorageService:Storing Data of single run `run_00000024`.\n",
        "INFO:pypet:\n",
        "=========================================\n",
        " Finished single run #23 of 63 \n",
        "=========================================\n",
        "\n"
       ]
      },
      {
       "output_type": "stream",
       "stream": "stderr",
       "text": [
        "INFO:pypet.HDF5StorageService:Finishing Storage of single run `run_00000024`.\n",
        "INFO:pypet:\n",
        "=========================================\n",
        " Starting single run #27 of 63 \n",
        "=========================================\n",
        "\n",
        "INFO:pypet.HDF5StorageService:Storing Data of single run `run_00000025`.\n",
        "INFO:pypet:\n",
        "=========================================\n",
        " Finished single run #24 of 63 \n",
        "=========================================\n",
        "\n"
       ]
      },
      {
       "output_type": "stream",
       "stream": "stderr",
       "text": [
        "INFO:pypet.HDF5StorageService:Finishing Storage of single run `run_00000025`.\n",
        "INFO:pypet:\n",
        "=========================================\n",
        " Starting single run #28 of 63 \n",
        "=========================================\n",
        "\n",
        "INFO:pypet.HDF5StorageService:Storing Data of single run `run_00000026`.\n",
        "INFO:pypet:\n",
        "=========================================\n",
        " Finished single run #25 of 63 \n",
        "=========================================\n",
        "\n"
       ]
      },
      {
       "output_type": "stream",
       "stream": "stderr",
       "text": [
        "INFO:pypet:\n",
        "=========================================\n",
        " Starting single run #29 of 63 \n",
        "=========================================\n",
        "\n",
        "INFO:pypet.HDF5StorageService:Finishing Storage of single run `run_00000026`.\n",
        "INFO:pypet.HDF5StorageService:Storing Data of single run `run_00000027`.\n",
        "INFO:pypet:\n",
        "=========================================\n",
        " Finished single run #26 of 63 \n",
        "=========================================\n",
        "\n"
       ]
      },
      {
       "output_type": "stream",
       "stream": "stderr",
       "text": [
        "INFO:pypet:\n",
        "=========================================\n",
        " Starting single run #30 of 63 \n",
        "=========================================\n",
        "\n",
        "INFO:pypet.HDF5StorageService:Finishing Storage of single run `run_00000027`.\n",
        "INFO:pypet.HDF5StorageService:Storing Data of single run `run_00000028`.\n",
        "INFO:pypet:\n",
        "=========================================\n",
        " Finished single run #27 of 63 \n",
        "=========================================\n",
        "\n"
       ]
      },
      {
       "output_type": "stream",
       "stream": "stderr",
       "text": [
        "INFO:pypet.HDF5StorageService:Finishing Storage of single run `run_00000028`.\n",
        "INFO:pypet:\n",
        "=========================================\n",
        " Starting single run #31 of 63 \n",
        "=========================================\n",
        "\n",
        "INFO:pypet.HDF5StorageService:Storing Data of single run `run_00000029`.\n",
        "INFO:pypet:\n",
        "=========================================\n",
        " Finished single run #28 of 63 \n",
        "=========================================\n",
        "\n"
       ]
      },
      {
       "output_type": "stream",
       "stream": "stderr",
       "text": [
        "INFO:pypet.HDF5StorageService:Finishing Storage of single run `run_00000029`.\n",
        "INFO:pypet:\n",
        "=========================================\n",
        " Starting single run #32 of 63 \n",
        "=========================================\n",
        "\n",
        "INFO:pypet.HDF5StorageService:Storing Data of single run `run_00000030`.\n",
        "INFO:pypet:\n",
        "=========================================\n",
        " Finished single run #29 of 63 \n",
        "=========================================\n",
        "\n"
       ]
      },
      {
       "output_type": "stream",
       "stream": "stderr",
       "text": [
        "INFO:pypet.HDF5StorageService:Finishing Storage of single run `run_00000030`.\n",
        "INFO:pypet:\n",
        "=========================================\n",
        " Starting single run #33 of 63 \n",
        "=========================================\n",
        "\n",
        "INFO:pypet.HDF5StorageService:Storing Data of single run `run_00000031`.\n",
        "INFO:pypet:\n",
        "=========================================\n",
        " Finished single run #30 of 63 \n",
        "=========================================\n",
        "\n"
       ]
      },
      {
       "output_type": "stream",
       "stream": "stderr",
       "text": [
        "INFO:pypet.HDF5StorageService:Finishing Storage of single run `run_00000031`.\n",
        "INFO:pypet:\n",
        "=========================================\n",
        " Starting single run #34 of 63 \n",
        "=========================================\n",
        "\n",
        "INFO:pypet.HDF5StorageService:Storing Data of single run `run_00000032`.\n",
        "INFO:pypet:\n",
        "=========================================\n",
        " Finished single run #31 of 63 \n",
        "=========================================\n",
        "\n"
       ]
      },
      {
       "output_type": "stream",
       "stream": "stderr",
       "text": [
        "INFO:pypet.HDF5StorageService:Finishing Storage of single run `run_00000032`.\n",
        "INFO:pypet:\n",
        "=========================================\n",
        " Starting single run #35 of 63 \n",
        "=========================================\n",
        "\n",
        "INFO:pypet.HDF5StorageService:Storing Data of single run `run_00000033`.\n",
        "INFO:pypet:\n",
        "=========================================\n",
        " Finished single run #32 of 63 \n",
        "=========================================\n",
        "\n"
       ]
      },
      {
       "output_type": "stream",
       "stream": "stderr",
       "text": [
        "INFO:pypet.HDF5StorageService:Finishing Storage of single run `run_00000033`.\n",
        "INFO:pypet:\n",
        "=========================================\n",
        " Starting single run #36 of 63 \n",
        "=========================================\n",
        "\n",
        "INFO:pypet.HDF5StorageService:Storing Data of single run `run_00000034`.\n",
        "INFO:pypet:\n",
        "=========================================\n",
        " Finished single run #33 of 63 \n",
        "=========================================\n",
        "\n"
       ]
      },
      {
       "output_type": "stream",
       "stream": "stderr",
       "text": [
        "INFO:pypet:\n",
        "=========================================\n",
        " Starting single run #37 of 63 \n",
        "=========================================\n",
        "\n",
        "INFO:pypet.HDF5StorageService:Finishing Storage of single run `run_00000034`.\n",
        "INFO:pypet.HDF5StorageService:Storing Data of single run `run_00000035`.\n",
        "INFO:pypet:\n",
        "=========================================\n",
        " Finished single run #34 of 63 \n",
        "=========================================\n",
        "\n"
       ]
      },
      {
       "output_type": "stream",
       "stream": "stderr",
       "text": [
        "INFO:pypet.HDF5StorageService:Finishing Storage of single run `run_00000035`.\n",
        "INFO:pypet:\n",
        "=========================================\n",
        " Starting single run #38 of 63 \n",
        "=========================================\n",
        "\n",
        "INFO:pypet.HDF5StorageService:Storing Data of single run `run_00000036`.\n",
        "INFO:pypet:\n",
        "=========================================\n",
        " Finished single run #35 of 63 \n",
        "=========================================\n",
        "\n"
       ]
      },
      {
       "output_type": "stream",
       "stream": "stderr",
       "text": [
        "INFO:pypet.HDF5StorageService:Finishing Storage of single run `run_00000036`.\n",
        "INFO:pypet:\n",
        "=========================================\n",
        " Starting single run #39 of 63 \n",
        "=========================================\n",
        "\n",
        "INFO:pypet.HDF5StorageService:Storing Data of single run `run_00000037`.\n",
        "INFO:pypet:\n",
        "=========================================\n",
        " Finished single run #36 of 63 \n",
        "=========================================\n",
        "\n"
       ]
      },
      {
       "output_type": "stream",
       "stream": "stderr",
       "text": [
        "INFO:pypet.HDF5StorageService:Finishing Storage of single run `run_00000037`.\n",
        "INFO:pypet:\n",
        "=========================================\n",
        " Starting single run #40 of 63 \n",
        "=========================================\n",
        "\n",
        "INFO:pypet.HDF5StorageService:Storing Data of single run `run_00000038`.\n",
        "INFO:pypet:\n",
        "=========================================\n",
        " Finished single run #37 of 63 \n",
        "=========================================\n",
        "\n"
       ]
      },
      {
       "output_type": "stream",
       "stream": "stderr",
       "text": [
        "INFO:pypet:\n",
        "=========================================\n",
        " Starting single run #41 of 63 \n",
        "=========================================\n",
        "\n",
        "INFO:pypet.HDF5StorageService:Finishing Storage of single run `run_00000038`.\n",
        "INFO:pypet.HDF5StorageService:Storing Data of single run `run_00000039`.\n",
        "INFO:pypet:\n",
        "=========================================\n",
        " Finished single run #38 of 63 \n",
        "=========================================\n",
        "\n"
       ]
      },
      {
       "output_type": "stream",
       "stream": "stderr",
       "text": [
        "INFO:pypet.HDF5StorageService:Finishing Storage of single run `run_00000039`.\n",
        "INFO:pypet:\n",
        "=========================================\n",
        " Starting single run #42 of 63 \n",
        "=========================================\n",
        "\n",
        "INFO:pypet.HDF5StorageService:Storing Data of single run `run_00000040`.\n",
        "INFO:pypet:\n",
        "=========================================\n",
        " Finished single run #39 of 63 \n",
        "=========================================\n",
        "\n"
       ]
      },
      {
       "output_type": "stream",
       "stream": "stderr",
       "text": [
        "INFO:pypet.HDF5StorageService:Finishing Storage of single run `run_00000040`.\n",
        "INFO:pypet:\n",
        "=========================================\n",
        " Starting single run #43 of 63 \n",
        "=========================================\n",
        "\n",
        "INFO:pypet.HDF5StorageService:Storing Data of single run `run_00000041`.\n",
        "INFO:pypet:\n",
        "=========================================\n",
        " Finished single run #40 of 63 \n",
        "=========================================\n",
        "\n",
        "INFO:pypet.HDF5StorageService:Finishing Storage of single run `run_00000041`.\n"
       ]
      },
      {
       "output_type": "stream",
       "stream": "stderr",
       "text": [
        "INFO:pypet:\n",
        "=========================================\n",
        " Starting single run #44 of 63 \n",
        "=========================================\n",
        "\n",
        "INFO:pypet.HDF5StorageService:Storing Data of single run `run_00000042`.\n",
        "INFO:pypet:\n",
        "=========================================\n",
        " Finished single run #41 of 63 \n",
        "=========================================\n",
        "\n",
        "INFO:pypet.HDF5StorageService:Finishing Storage of single run `run_00000042`.\n"
       ]
      },
      {
       "output_type": "stream",
       "stream": "stderr",
       "text": [
        "INFO:pypet:\n",
        "=========================================\n",
        " Finished single run #42 of 63 \n",
        "=========================================\n",
        "\n",
        "INFO:pypet.HDF5StorageService:Storing Data of single run `run_00000043`.\n",
        "INFO:pypet:\n",
        "=========================================\n",
        " Starting single run #45 of 63 \n",
        "=========================================\n",
        "\n",
        "INFO:pypet.HDF5StorageService:Finishing Storage of single run `run_00000043`.\n"
       ]
      },
      {
       "output_type": "stream",
       "stream": "stderr",
       "text": [
        "INFO:pypet:\n",
        "=========================================\n",
        " Finished single run #43 of 63 \n",
        "=========================================\n",
        "\n",
        "INFO:pypet:\n",
        "=========================================\n",
        " Starting single run #46 of 63 \n",
        "=========================================\n",
        "\n",
        "INFO:pypet.HDF5StorageService:Storing Data of single run `run_00000044`.\n"
       ]
      },
      {
       "output_type": "stream",
       "stream": "stderr",
       "text": [
        "INFO:pypet.HDF5StorageService:Finishing Storage of single run `run_00000044`.\n",
        "INFO:pypet:\n",
        "=========================================\n",
        " Starting single run #47 of 63 \n",
        "=========================================\n",
        "\n",
        "INFO:pypet.HDF5StorageService:Storing Data of single run `run_00000045`.\n",
        "INFO:pypet:\n",
        "=========================================\n",
        " Finished single run #44 of 63 \n",
        "=========================================\n",
        "\n"
       ]
      },
      {
       "output_type": "stream",
       "stream": "stderr",
       "text": [
        "INFO:pypet.HDF5StorageService:Finishing Storage of single run `run_00000045`.\n",
        "INFO:pypet:\n",
        "=========================================\n",
        " Starting single run #48 of 63 \n",
        "=========================================\n",
        "\n",
        "INFO:pypet.HDF5StorageService:Storing Data of single run `run_00000046`.\n",
        "INFO:pypet:\n",
        "=========================================\n",
        " Finished single run #45 of 63 \n",
        "=========================================\n",
        "\n"
       ]
      },
      {
       "output_type": "stream",
       "stream": "stderr",
       "text": [
        "INFO:pypet.HDF5StorageService:Finishing Storage of single run `run_00000046`.\n",
        "INFO:pypet:\n",
        "=========================================\n",
        " Starting single run #49 of 63 \n",
        "=========================================\n",
        "\n",
        "INFO:pypet.HDF5StorageService:Storing Data of single run `run_00000047`.\n",
        "INFO:pypet:\n",
        "=========================================\n",
        " Finished single run #46 of 63 \n",
        "=========================================\n",
        "\n"
       ]
      },
      {
       "output_type": "stream",
       "stream": "stderr",
       "text": [
        "INFO:pypet.HDF5StorageService:Finishing Storage of single run `run_00000047`.\n",
        "INFO:pypet:\n",
        "=========================================\n",
        " Starting single run #50 of 63 \n",
        "=========================================\n",
        "\n",
        "INFO:pypet.HDF5StorageService:Storing Data of single run `run_00000048`.\n",
        "INFO:pypet:\n",
        "=========================================\n",
        " Finished single run #47 of 63 \n",
        "=========================================\n",
        "\n"
       ]
      },
      {
       "output_type": "stream",
       "stream": "stderr",
       "text": [
        "INFO:pypet:\n",
        "=========================================\n",
        " Starting single run #51 of 63 \n",
        "=========================================\n",
        "\n",
        "INFO:pypet.HDF5StorageService:Finishing Storage of single run `run_00000048`.\n",
        "INFO:pypet.HDF5StorageService:Storing Data of single run `run_00000049`.\n",
        "INFO:pypet:\n",
        "=========================================\n",
        " Finished single run #48 of 63 \n",
        "=========================================\n",
        "\n"
       ]
      },
      {
       "output_type": "stream",
       "stream": "stderr",
       "text": [
        "INFO:pypet.HDF5StorageService:Finishing Storage of single run `run_00000049`.\n",
        "INFO:pypet:\n",
        "=========================================\n",
        " Starting single run #52 of 63 \n",
        "=========================================\n",
        "\n",
        "INFO:pypet.HDF5StorageService:Storing Data of single run `run_00000050`.\n",
        "INFO:pypet:\n",
        "=========================================\n",
        " Finished single run #49 of 63 \n",
        "=========================================\n",
        "\n"
       ]
      },
      {
       "output_type": "stream",
       "stream": "stderr",
       "text": [
        "INFO:pypet.HDF5StorageService:Finishing Storage of single run `run_00000050`.\n",
        "INFO:pypet:\n",
        "=========================================\n",
        " Starting single run #53 of 63 \n",
        "=========================================\n",
        "\n",
        "INFO:pypet.HDF5StorageService:Storing Data of single run `run_00000051`.\n",
        "INFO:pypet:\n",
        "=========================================\n",
        " Finished single run #50 of 63 \n",
        "=========================================\n",
        "\n",
        "INFO:pypet.HDF5StorageService:Finishing Storage of single run `run_00000051`.\n"
       ]
      },
      {
       "output_type": "stream",
       "stream": "stderr",
       "text": [
        "INFO:pypet.HDF5StorageService:Storing Data of single run `run_00000052`.\n",
        "INFO:pypet:\n",
        "=========================================\n",
        " Finished single run #51 of 63 \n",
        "=========================================\n",
        "\n",
        "INFO:pypet:\n",
        "=========================================\n",
        " Starting single run #54 of 63 \n",
        "=========================================\n",
        "\n"
       ]
      },
      {
       "output_type": "stream",
       "stream": "stderr",
       "text": [
        "INFO:pypet.HDF5StorageService:Finishing Storage of single run `run_00000052`.\n",
        "INFO:pypet:\n",
        "=========================================\n",
        " Starting single run #55 of 63 \n",
        "=========================================\n",
        "\n",
        "INFO:pypet.HDF5StorageService:Storing Data of single run `run_00000053`.\n",
        "INFO:pypet:\n",
        "=========================================\n",
        " Finished single run #52 of 63 \n",
        "=========================================\n",
        "\n",
        "INFO:pypet.HDF5StorageService:Finishing Storage of single run `run_00000053`.\n"
       ]
      },
      {
       "output_type": "stream",
       "stream": "stderr",
       "text": [
        "INFO:pypet:\n",
        "=========================================\n",
        " Starting single run #56 of 63 \n",
        "=========================================\n",
        "\n",
        "INFO:pypet:\n",
        "=========================================\n",
        " Finished single run #53 of 63 \n",
        "=========================================\n",
        "\n",
        "INFO:pypet.HDF5StorageService:Storing Data of single run `run_00000054`.\n"
       ]
      },
      {
       "output_type": "stream",
       "stream": "stderr",
       "text": [
        "INFO:pypet:\n",
        "=========================================\n",
        " Starting single run #57 of 63 \n",
        "=========================================\n",
        "\n",
        "INFO:pypet.HDF5StorageService:Finishing Storage of single run `run_00000054`.\n",
        "INFO:pypet.HDF5StorageService:Storing Data of single run `run_00000055`.\n",
        "INFO:pypet:\n",
        "=========================================\n",
        " Finished single run #54 of 63 \n",
        "=========================================\n",
        "\n"
       ]
      },
      {
       "output_type": "stream",
       "stream": "stderr",
       "text": [
        "INFO:pypet:\n",
        "=========================================\n",
        " Starting single run #58 of 63 \n",
        "=========================================\n",
        "\n",
        "INFO:pypet.HDF5StorageService:Finishing Storage of single run `run_00000055`.\n",
        "INFO:pypet.HDF5StorageService:Storing Data of single run `run_00000056`.\n",
        "INFO:pypet:\n",
        "=========================================\n",
        " Finished single run #55 of 63 \n",
        "=========================================\n",
        "\n"
       ]
      },
      {
       "output_type": "stream",
       "stream": "stderr",
       "text": [
        "INFO:pypet.HDF5StorageService:Finishing Storage of single run `run_00000056`.\n",
        "INFO:pypet:\n",
        "=========================================\n",
        " Starting single run #59 of 63 \n",
        "=========================================\n",
        "\n",
        "INFO:pypet.HDF5StorageService:Storing Data of single run `run_00000057`.\n",
        "INFO:pypet:\n",
        "=========================================\n",
        " Finished single run #56 of 63 \n",
        "=========================================\n",
        "\n"
       ]
      },
      {
       "output_type": "stream",
       "stream": "stderr",
       "text": [
        "INFO:pypet:\n",
        "=========================================\n",
        " Starting single run #60 of 63 \n",
        "=========================================\n",
        "\n",
        "INFO:pypet.HDF5StorageService:Finishing Storage of single run `run_00000057`.\n",
        "INFO:pypet.HDF5StorageService:Storing Data of single run `run_00000058`.\n",
        "INFO:pypet:\n",
        "=========================================\n",
        " Finished single run #57 of 63 \n",
        "=========================================\n",
        "\n"
       ]
      },
      {
       "output_type": "stream",
       "stream": "stderr",
       "text": [
        "INFO:pypet:\n",
        "=========================================\n",
        " Starting single run #61 of 63 \n",
        "=========================================\n",
        "\n",
        "INFO:pypet.HDF5StorageService:Finishing Storage of single run `run_00000058`.\n",
        "INFO:pypet.HDF5StorageService:Storing Data of single run `run_00000059`.\n",
        "INFO:pypet:\n",
        "=========================================\n",
        " Finished single run #58 of 63 \n",
        "=========================================\n",
        "\n"
       ]
      },
      {
       "output_type": "stream",
       "stream": "stderr",
       "text": [
        "INFO:pypet.Environment:\n",
        "************************************************************\n",
        "FINISHED all runs of trajectory\n",
        "`FiringRate`\n",
        "in parallel with 4 cores.\n",
        "************************************************************\n",
        "\n",
        "INFO:pypet:\n",
        "=========================================\n",
        " Starting single run #62 of 63 \n",
        "=========================================\n",
        "\n",
        "INFO:pypet.HDF5StorageService:Finishing Storage of single run `run_00000059`.\n",
        "INFO:pypet.HDF5StorageService:Storing Data of single run `run_00000060`.\n",
        "INFO:pypet.HDF5StorageService:Storing Data of single run `run_00000061`.\n",
        "INFO:pypet.HDF5StorageService:Storing Data of single run `run_00000062`.\n",
        "INFO:pypet:\n",
        "=========================================\n",
        " Finished single run #59 of 63 \n",
        "=========================================\n",
        "\n",
        "INFO:pypet.HDF5StorageService:Finishing Storage of single run `run_00000060`.\n",
        "INFO:pypet.HDF5StorageService:Finishing Storage of single run `run_00000061`.\n",
        "INFO:pypet.HDF5StorageService:Finishing Storage of single run `run_00000062`.\n",
        "INFO:pypet:\n",
        "=========================================\n",
        " Finished single run #60 of 63 \n",
        "=========================================\n",
        "\n",
        "INFO:pypet:\n",
        "=========================================\n",
        " Finished single run #61 of 63 \n",
        "=========================================\n",
        "\n",
        "INFO:pypet:\n",
        "=========================================\n",
        " Finished single run #62 of 63 \n",
        "=========================================\n",
        "\n"
       ]
      },
      {
       "output_type": "stream",
       "stream": "stderr",
       "text": [
        "INFO:pypet.HDF5StorageService:Checked meta data of trajectory `FiringRate`.\n"
       ]
      },
      {
       "output_type": "stream",
       "stream": "stderr",
       "text": [
        "INFO:pypet.Environment:\n",
        "************************************************************\n",
        "STARTING POSTPROCESSING for trajectory\n",
        "`FiringRate`\n",
        "************************************************************\n",
        "\n"
       ]
      },
      {
       "output_type": "stream",
       "stream": "stderr",
       "text": [
        "INFO:pypet.Environment:\n",
        "************************************************************\n",
        "STARTING FINAL STORING of trajectory\n",
        "`FiringRate`\n",
        "************************************************************\n",
        "\n"
       ]
      },
      {
       "output_type": "stream",
       "stream": "stderr",
       "text": [
        "INFO:pypet.HDF5StorageService:Start storing Trajectory `FiringRate`.\n"
       ]
      },
      {
       "output_type": "stream",
       "stream": "stderr",
       "text": [
        "INFO:pypet.HDF5StorageService:Storing branch `config`.\n"
       ]
      },
      {
       "output_type": "stream",
       "stream": "stderr",
       "text": [
        "INFO:pypet.HDF5StorageService:Storing branch `results`.\n"
       ]
      },
      {
       "output_type": "stream",
       "stream": "stderr",
       "text": [
        "/home/robert/Programme/anaconda/lib/python2.7/site-packages/pandas/io/pytables.py:2441: PerformanceWarning: \n",
        "your performance may suffer as PyTables will pickle object types that it cannot\n",
        "map directly to c-types [inferred_type->floating,key->block0_values] [items->[5.0, 7.5, 10.0]]\n",
        "\n",
        "  warnings.warn(ws, PerformanceWarning)\n",
        "INFO:pypet.HDF5StorageService:Storing branch `parameters`.\n"
       ]
      },
      {
       "output_type": "stream",
       "stream": "stderr",
       "text": [
        "INFO:pypet.HDF5StorageService:Finished storing Trajectory `FiringRate`.\n"
       ]
      },
      {
       "output_type": "stream",
       "stream": "stderr",
       "text": [
        "INFO:pypet.Environment:\n",
        "************************************************************\n",
        "FINISHED FINAL STORING of trajectory\n",
        "`FiringRate`.\n",
        "************************************************************\n",
        "\n"
       ]
      },
      {
       "output_type": "stream",
       "stream": "stderr",
       "text": [
        "INFO:pypet.HDF5StorageService:Checked meta data of trajectory `FiringRate`.\n"
       ]
      },
      {
       "output_type": "stream",
       "stream": "stderr",
       "text": [
        "INFO:pypet.Environment:All runs of trajectory `FiringRate` were completed succesfully.\n"
       ]
      },
      {
       "output_type": "stream",
       "stream": "stderr",
       "text": [
        "INFO:pypet.Environment:Disabling logging to the error file\n"
       ]
      },
      {
       "output_type": "stream",
       "stream": "stderr",
       "text": [
        "INFO:pypet.Environment:Disabling logging to main file\n"
       ]
      }
     ],
     "prompt_number": 9
    },
    {
     "cell_type": "markdown",
     "metadata": {},
     "source": [
      "Analys\n",
      "\n",
      "Well, let's now take a look at the data and plot it.\n",
      "\n",
      "We will again use *pypet* for the analysis."
     ]
    },
    {
     "cell_type": "code",
     "collapsed": false,
     "input": [
      "from pypet import Trajectory\n",
      "\n",
      "# This time we don't need an environment since we just going to look\n",
      "# at data in the trajectory\n",
      "traj = Trajectory('FiringRate', add_time=False)\n",
      "\n",
      "# Let's load the trajectory from the file\n",
      "# Only load the parameters, we will load the results on the fly as we need them\n",
      "filename = os.path.join('hdf5', 'FiringRate.hdf5')\n",
      "traj.f_load(load_parameters=2, load_derived_parameters=0, load_results=0,\n",
      "            load_other_data=0, filename=filename)\n",
      "\n",
      "# We'll simply use auto loading so all data will be loaded when needed.\n",
      "traj.v_auto_load = True\n",
      "\n",
      "rates_frame = traj.res.summary.firing_rates.rates_frame\n",
      "# Here we load the data automatically on the fly\n",
      "\n",
      "plt.figure(figsize=(8,6))\n",
      "plt.subplot(2,1,1)\n",
      "#Let's iterate through the columns and plot the different firing rates :\n",
      "for tau_ref, I_col in rates_frame.iteritems():\n",
      "    plt.plot(I_col.index, I_col, label='Avg. Rate for tau_ref=%s' % str(tau_ref))\n",
      "\n",
      "# Label the plot\n",
      "plt.xlabel('I')\n",
      "plt.ylabel('f[Hz]')\n",
      "plt.title('Firing as a function of input current `I`')\n",
      "plt.legend(loc='best')\n",
      "\n",
      "# Also let's plot an example run, how about run 13 ?\n",
      "example_run = 13\n",
      "\n",
      "traj.v_idx = example_run # We make the trajectory behave as a single run container.\n",
      "# This short statement has two major effects:\n",
      "# a) all explored parameters are set to the value of run 13,\n",
      "# b) if there are tree nodes with names other than the current run aka `run_00000013`\n",
      "# they are simply ignored, if we use the `$` sign or the `crun` statement,\n",
      "# these are translated into `run_00000013`.\n",
      "\n",
      "# Get the example data\n",
      "example_I = traj.I\n",
      "example_tau_ref = traj.tau_ref\n",
      "example_V = traj.results.neuron.crun.V # Here crun stands for run_00000013\n",
      "\n",
      "# We need the time step...\n",
      "dt = traj.dt\n",
      "# ...to create an x-axis for the plot\n",
      "dt_array = [irun * dt for irun in range(len(example_V))]\n",
      "\n",
      "# And plot the development of V over time,\n",
      "# Since this is rather repetitive, we only\n",
      "# plot the first eighth of it.\n",
      "plt.subplot(2,1,2)\n",
      "plt.plot(dt_array, example_V)\n",
      "plt.xlim((0, dt*len(example_V)/8))\n",
      "\n",
      "# Label the axis\n",
      "plt.xlabel('t[ms]')\n",
      "plt.ylabel('V')\n",
      "plt.title('Example of development of V for I=%s, tau_ref=%s in run %d' %\n",
      "          (str(example_I), str(example_tau_ref), traj.v_idx))\n",
      "plt.tight_layout()\n",
      "\n",
      "# Finally revoke the `traj.v_idx=13` statement and set everything back to normal.\n",
      "# Since our analysis is done here, we could skip that, but it is always a good idea\n",
      "# to do that.\n",
      "traj.f_restore_default()"
     ],
     "language": "python",
     "metadata": {},
     "outputs": [
      {
       "output_type": "stream",
       "stream": "stderr",
       "text": [
        "INFO:pypet.HDF5StorageService:I will use the hdf5 file `hdf5/FiringRate.hdf5`.\n"
       ]
      },
      {
       "output_type": "stream",
       "stream": "stderr",
       "text": [
        "INFO:pypet.HDF5StorageService:Loading trajectory `FiringRate`.\n"
       ]
      },
      {
       "output_type": "stream",
       "stream": "stderr",
       "text": [
        "INFO:pypet.HDF5StorageService:Loading branch `config` in mode `2`.\n"
       ]
      },
      {
       "output_type": "stream",
       "stream": "stderr",
       "text": [
        "INFO:pypet.HDF5StorageService:Loading branch `parameters` in mode `2`.\n"
       ]
      },
      {
       "metadata": {},
       "output_type": "display_data",
       "png": "[encoded data removed]",
       "text": [
        "<matplotlib.figure.Figure at 0x7f2358af73d0>"
       ]
      }
     ],
     "prompt_number": 17
    },
    {
     "cell_type": "code",
     "collapsed": false,
     "input": [
      "from pypet import Environment as env"
     ],
     "language": "python",
     "metadata": {},
     "outputs": [],
     "prompt_number": 55
    },
    {
     "cell_type": "code",
     "collapsed": false,
     "input": [
      "env.__class__.__repr__"
     ],
     "language": "python",
     "metadata": {},
     "outputs": [
      {
       "metadata": {},
       "output_type": "pyout",
       "prompt_number": 68,
       "text": [
        "<slot wrapper '__repr__' of 'type' objects>"
       ]
      }
     ],
     "prompt_number": 68
    },
    {
     "cell_type": "code",
     "collapsed": false,
     "input": [
      "print __file__"
     ],
     "language": "python",
     "metadata": {},
     "outputs": [
      {
       "ename": "NameError",
       "evalue": "name '__file__' is not defined",
       "output_type": "pyerr",
       "traceback": [
        "\u001b[1;31m---------------------------------------------------------------------------\u001b[0m\n\u001b[1;31mNameError\u001b[0m                                 Traceback (most recent call last)",
        "\u001b[1;32m<ipython-input-69-49de7a1aac2b>\u001b[0m in \u001b[0;36m<module>\u001b[1;34m()\u001b[0m\n\u001b[1;32m----> 1\u001b[1;33m \u001b[1;32mprint\u001b[0m \u001b[0m__file__\u001b[0m\u001b[1;33m\u001b[0m\u001b[0m\n\u001b[0m",
        "\u001b[1;31mNameError\u001b[0m: name '__file__' is not defined"
       ]
      }
     ],
     "prompt_number": 69
    },
    {
     "cell_type": "code",
     "collapsed": false,
     "input": [],
     "language": "python",
     "metadata": {},
     "outputs": []
    }
   ],
   "metadata": {}
  }
 ]
}